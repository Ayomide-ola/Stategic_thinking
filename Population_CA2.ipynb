{
 "cells": [
  {
   "cell_type": "markdown",
   "id": "961db31f",
   "metadata": {},
   "source": [
    "# Population decline analysis"
   ]
  },
  {
   "cell_type": "code",
   "execution_count": 1,
   "id": "856a37d2",
   "metadata": {},
   "outputs": [],
   "source": [
    "import numpy as np\n",
    "import pandas as pd\n",
    "import matplotlib.pyplot as plt\n",
    "import seaborn as sns"
   ]
  },
  {
   "cell_type": "code",
   "execution_count": 2,
   "id": "226a535d",
   "metadata": {},
   "outputs": [
    {
     "data": {
      "text/html": [
       "<div>\n",
       "<style scoped>\n",
       "    .dataframe tbody tr th:only-of-type {\n",
       "        vertical-align: middle;\n",
       "    }\n",
       "\n",
       "    .dataframe tbody tr th {\n",
       "        vertical-align: top;\n",
       "    }\n",
       "\n",
       "    .dataframe thead th {\n",
       "        text-align: right;\n",
       "    }\n",
       "</style>\n",
       "<table border=\"1\" class=\"dataframe\">\n",
       "  <thead>\n",
       "    <tr style=\"text-align: right;\">\n",
       "      <th></th>\n",
       "      <th>Statistic Label</th>\n",
       "      <th>Quarter</th>\n",
       "      <th>State</th>\n",
       "      <th>UNIT</th>\n",
       "      <th>VALUE</th>\n",
       "    </tr>\n",
       "  </thead>\n",
       "  <tbody>\n",
       "    <tr>\n",
       "      <th>0</th>\n",
       "      <td>Marriages Registered</td>\n",
       "      <td>1960Q1</td>\n",
       "      <td>State</td>\n",
       "      <td>Number</td>\n",
       "      <td>2987.0</td>\n",
       "    </tr>\n",
       "    <tr>\n",
       "      <th>1</th>\n",
       "      <td>Marriages Registered</td>\n",
       "      <td>1960Q2</td>\n",
       "      <td>State</td>\n",
       "      <td>Number</td>\n",
       "      <td>3501.0</td>\n",
       "    </tr>\n",
       "    <tr>\n",
       "      <th>2</th>\n",
       "      <td>Marriages Registered</td>\n",
       "      <td>1960Q3</td>\n",
       "      <td>State</td>\n",
       "      <td>Number</td>\n",
       "      <td>5900.0</td>\n",
       "    </tr>\n",
       "    <tr>\n",
       "      <th>3</th>\n",
       "      <td>Marriages Registered</td>\n",
       "      <td>1960Q4</td>\n",
       "      <td>State</td>\n",
       "      <td>Number</td>\n",
       "      <td>3106.0</td>\n",
       "    </tr>\n",
       "    <tr>\n",
       "      <th>4</th>\n",
       "      <td>Marriages Registered</td>\n",
       "      <td>1961Q1</td>\n",
       "      <td>State</td>\n",
       "      <td>Number</td>\n",
       "      <td>2179.0</td>\n",
       "    </tr>\n",
       "  </tbody>\n",
       "</table>\n",
       "</div>"
      ],
      "text/plain": [
       "        Statistic Label Quarter  State    UNIT   VALUE\n",
       "0  Marriages Registered  1960Q1  State  Number  2987.0\n",
       "1  Marriages Registered  1960Q2  State  Number  3501.0\n",
       "2  Marriages Registered  1960Q3  State  Number  5900.0\n",
       "3  Marriages Registered  1960Q4  State  Number  3106.0\n",
       "4  Marriages Registered  1961Q1  State  Number  2179.0"
      ]
     },
     "execution_count": 2,
     "metadata": {},
     "output_type": "execute_result"
    }
   ],
   "source": [
    "pop= pd.read_csv(\"Total Births, Deaths and Marriages Registered.csv\")\n",
    "pop.head()"
   ]
  },
  {
   "cell_type": "markdown",
   "id": "67a7d96f",
   "metadata": {},
   "source": [
    "In other to explore population declin hypothesis in ireland i consulted with domain knowledgible professionals\n",
    "Populkation of married couples in ireland does not have a direct corrolation wirth population declin or increase according to domain knowledge. Because not all married people decide to have offsprings, some adopt and some where unable to have offsprings for biological r3easons. Thus is why i decided to drip the marriage column in the popularion projevt. "
   ]
  },
  {
   "cell_type": "code",
   "execution_count": 3,
   "id": "8fa330fd",
   "metadata": {},
   "outputs": [],
   "source": [
    "pop['Married'] = pop['VALUE'][pop['Statistic Label']=='Marriages Registered']"
   ]
  },
  {
   "cell_type": "code",
   "execution_count": 4,
   "id": "7d64d901",
   "metadata": {},
   "outputs": [
    {
     "data": {
      "text/html": [
       "<div>\n",
       "<style scoped>\n",
       "    .dataframe tbody tr th:only-of-type {\n",
       "        vertical-align: middle;\n",
       "    }\n",
       "\n",
       "    .dataframe tbody tr th {\n",
       "        vertical-align: top;\n",
       "    }\n",
       "\n",
       "    .dataframe thead th {\n",
       "        text-align: right;\n",
       "    }\n",
       "</style>\n",
       "<table border=\"1\" class=\"dataframe\">\n",
       "  <thead>\n",
       "    <tr style=\"text-align: right;\">\n",
       "      <th></th>\n",
       "      <th>Statistic Label</th>\n",
       "      <th>Quarter</th>\n",
       "      <th>State</th>\n",
       "      <th>UNIT</th>\n",
       "      <th>VALUE</th>\n",
       "      <th>Married</th>\n",
       "    </tr>\n",
       "  </thead>\n",
       "  <tbody>\n",
       "    <tr>\n",
       "      <th>0</th>\n",
       "      <td>Marriages Registered</td>\n",
       "      <td>1960Q1</td>\n",
       "      <td>State</td>\n",
       "      <td>Number</td>\n",
       "      <td>2987.0</td>\n",
       "      <td>2987.0</td>\n",
       "    </tr>\n",
       "    <tr>\n",
       "      <th>1</th>\n",
       "      <td>Marriages Registered</td>\n",
       "      <td>1960Q2</td>\n",
       "      <td>State</td>\n",
       "      <td>Number</td>\n",
       "      <td>3501.0</td>\n",
       "      <td>3501.0</td>\n",
       "    </tr>\n",
       "    <tr>\n",
       "      <th>2</th>\n",
       "      <td>Marriages Registered</td>\n",
       "      <td>1960Q3</td>\n",
       "      <td>State</td>\n",
       "      <td>Number</td>\n",
       "      <td>5900.0</td>\n",
       "      <td>5900.0</td>\n",
       "    </tr>\n",
       "    <tr>\n",
       "      <th>3</th>\n",
       "      <td>Marriages Registered</td>\n",
       "      <td>1960Q4</td>\n",
       "      <td>State</td>\n",
       "      <td>Number</td>\n",
       "      <td>3106.0</td>\n",
       "      <td>3106.0</td>\n",
       "    </tr>\n",
       "    <tr>\n",
       "      <th>4</th>\n",
       "      <td>Marriages Registered</td>\n",
       "      <td>1961Q1</td>\n",
       "      <td>State</td>\n",
       "      <td>Number</td>\n",
       "      <td>2179.0</td>\n",
       "      <td>2179.0</td>\n",
       "    </tr>\n",
       "  </tbody>\n",
       "</table>\n",
       "</div>"
      ],
      "text/plain": [
       "        Statistic Label Quarter  State    UNIT   VALUE  Married\n",
       "0  Marriages Registered  1960Q1  State  Number  2987.0   2987.0\n",
       "1  Marriages Registered  1960Q2  State  Number  3501.0   3501.0\n",
       "2  Marriages Registered  1960Q3  State  Number  5900.0   5900.0\n",
       "3  Marriages Registered  1960Q4  State  Number  3106.0   3106.0\n",
       "4  Marriages Registered  1961Q1  State  Number  2179.0   2179.0"
      ]
     },
     "execution_count": 4,
     "metadata": {},
     "output_type": "execute_result"
    }
   ],
   "source": [
    "pop.head()"
   ]
  },
  {
   "cell_type": "code",
   "execution_count": 14,
   "id": "89646c72",
   "metadata": {},
   "outputs": [
    {
     "data": {
      "text/plain": [
       "(4554, 12)"
      ]
     },
     "execution_count": 14,
     "metadata": {},
     "output_type": "execute_result"
    }
   ],
   "source": [
    "pop.shape"
   ]
  },
  {
   "cell_type": "code",
   "execution_count": 5,
   "id": "896827c0",
   "metadata": {},
   "outputs": [
    {
     "data": {
      "text/plain": [
       "array(['Marriages Registered',\n",
       "       'Marriage Rate Registered per 1000 Estimated Population',\n",
       "       'Deaths Registered',\n",
       "       'Death Rate Registered per 1000 Estimated Population',\n",
       "       'Deaths of Infants under 1 Year Registered per 1000 Births',\n",
       "       'Births Registered',\n",
       "       'Birth Rate Registered per 1000 Estimated Population',\n",
       "       'Opposite sex marriages', 'Same sex marriages',\n",
       "       'Civil partnerships', 'Births registered that were first births',\n",
       "       'Births registered outside marriage', 'Opposite sex marriage rate',\n",
       "       'Same sex marriage rate', 'Civil partnership marriage rate',\n",
       "       'Percentage of first births registered',\n",
       "       'Percentage of births registered outside marriage',\n",
       "       'Average age of mothers giving birth'], dtype=object)"
      ]
     },
     "execution_count": 5,
     "metadata": {},
     "output_type": "execute_result"
    }
   ],
   "source": [
    "pop['Statistic Label'].unique()"
   ]
  },
  {
   "cell_type": "code",
   "execution_count": 17,
   "id": "196d9e6d",
   "metadata": {},
   "outputs": [],
   "source": [
    "pop['Reg_Death'] = pop['VALUE'][pop['Statistic Label']=='Deaths Registered']"
   ]
  },
  {
   "cell_type": "code",
   "execution_count": 18,
   "id": "072bb338",
   "metadata": {},
   "outputs": [],
   "source": [
    "pop['Rate_Death/1000'] = pop['VALUE'][pop['Statistic Label']=='Death Rate Registered per 1000 Estimated Population']"
   ]
  },
  {
   "cell_type": "code",
   "execution_count": 19,
   "id": "14c029c5",
   "metadata": {},
   "outputs": [],
   "source": [
    "pop['Reg_inf_Death/1000'] = pop['VALUE'][pop['Statistic Label']=='Deaths of Infants under 1 Year Registered per 1000 Births']"
   ]
  },
  {
   "cell_type": "code",
   "execution_count": 20,
   "id": "25a97b44",
   "metadata": {},
   "outputs": [],
   "source": [
    "pop['Reg_Birth'] = pop['VALUE'][pop['Statistic Label']=='Births Registered']"
   ]
  },
  {
   "cell_type": "code",
   "execution_count": 21,
   "id": "a1062d3e",
   "metadata": {},
   "outputs": [],
   "source": [
    "pop['B_outsideMarriage'] = pop['VALUE'][pop['Statistic Label']=='Percentage of births registered outside marriage']"
   ]
  },
  {
   "cell_type": "code",
   "execution_count": 22,
   "id": "9409fa5c",
   "metadata": {},
   "outputs": [],
   "source": [
    "pop['Mothers_age'] = pop['VALUE'][pop['Statistic Label']== 'Average age of mothers giving birth']"
   ]
  },
  {
   "cell_type": "code",
   "execution_count": 23,
   "id": "1fbcbb58",
   "metadata": {},
   "outputs": [],
   "source": [
    "pop['CV_P_M'] = pop['VALUE'][pop['Statistic Label']== 'Civil partnership marriage rate']"
   ]
  },
  {
   "cell_type": "code",
   "execution_count": 24,
   "id": "218c41d6",
   "metadata": {},
   "outputs": [],
   "source": [
    "pop['Rate_marriage/1000'] = pop['VALUE'][pop['Statistic Label']== 'Marriage Rate Registered per 1000 Estimated Population']"
   ]
  },
  {
   "cell_type": "code",
   "execution_count": 25,
   "id": "1dcc6238",
   "metadata": {},
   "outputs": [
    {
     "data": {
      "text/html": [
       "<div>\n",
       "<style scoped>\n",
       "    .dataframe tbody tr th:only-of-type {\n",
       "        vertical-align: middle;\n",
       "    }\n",
       "\n",
       "    .dataframe tbody tr th {\n",
       "        vertical-align: top;\n",
       "    }\n",
       "\n",
       "    .dataframe thead th {\n",
       "        text-align: right;\n",
       "    }\n",
       "</style>\n",
       "<table border=\"1\" class=\"dataframe\">\n",
       "  <thead>\n",
       "    <tr style=\"text-align: right;\">\n",
       "      <th></th>\n",
       "      <th>Statistic Label</th>\n",
       "      <th>Quarter</th>\n",
       "      <th>State</th>\n",
       "      <th>UNIT</th>\n",
       "      <th>VALUE</th>\n",
       "      <th>Married</th>\n",
       "      <th>Death</th>\n",
       "      <th>Birth</th>\n",
       "      <th>B_outsideMarriage</th>\n",
       "      <th>Reg_Death/1000</th>\n",
       "      <th>Reg_inf_Death/1000</th>\n",
       "      <th>Mothers_age</th>\n",
       "      <th>CV_P_M</th>\n",
       "      <th>Reg_Death</th>\n",
       "      <th>Rate_Death/1000</th>\n",
       "      <th>Reg_Birth</th>\n",
       "      <th>Rate_marriage/1000</th>\n",
       "    </tr>\n",
       "  </thead>\n",
       "  <tbody>\n",
       "    <tr>\n",
       "      <th>0</th>\n",
       "      <td>Marriages Registered</td>\n",
       "      <td>1960Q1</td>\n",
       "      <td>State</td>\n",
       "      <td>Number</td>\n",
       "      <td>2987.0</td>\n",
       "      <td>2987.0</td>\n",
       "      <td>NaN</td>\n",
       "      <td>NaN</td>\n",
       "      <td>NaN</td>\n",
       "      <td>NaN</td>\n",
       "      <td>NaN</td>\n",
       "      <td>NaN</td>\n",
       "      <td>NaN</td>\n",
       "      <td>NaN</td>\n",
       "      <td>NaN</td>\n",
       "      <td>NaN</td>\n",
       "      <td>NaN</td>\n",
       "    </tr>\n",
       "    <tr>\n",
       "      <th>1</th>\n",
       "      <td>Marriages Registered</td>\n",
       "      <td>1960Q2</td>\n",
       "      <td>State</td>\n",
       "      <td>Number</td>\n",
       "      <td>3501.0</td>\n",
       "      <td>3501.0</td>\n",
       "      <td>NaN</td>\n",
       "      <td>NaN</td>\n",
       "      <td>NaN</td>\n",
       "      <td>NaN</td>\n",
       "      <td>NaN</td>\n",
       "      <td>NaN</td>\n",
       "      <td>NaN</td>\n",
       "      <td>NaN</td>\n",
       "      <td>NaN</td>\n",
       "      <td>NaN</td>\n",
       "      <td>NaN</td>\n",
       "    </tr>\n",
       "    <tr>\n",
       "      <th>2</th>\n",
       "      <td>Marriages Registered</td>\n",
       "      <td>1960Q3</td>\n",
       "      <td>State</td>\n",
       "      <td>Number</td>\n",
       "      <td>5900.0</td>\n",
       "      <td>5900.0</td>\n",
       "      <td>NaN</td>\n",
       "      <td>NaN</td>\n",
       "      <td>NaN</td>\n",
       "      <td>NaN</td>\n",
       "      <td>NaN</td>\n",
       "      <td>NaN</td>\n",
       "      <td>NaN</td>\n",
       "      <td>NaN</td>\n",
       "      <td>NaN</td>\n",
       "      <td>NaN</td>\n",
       "      <td>NaN</td>\n",
       "    </tr>\n",
       "    <tr>\n",
       "      <th>3</th>\n",
       "      <td>Marriages Registered</td>\n",
       "      <td>1960Q4</td>\n",
       "      <td>State</td>\n",
       "      <td>Number</td>\n",
       "      <td>3106.0</td>\n",
       "      <td>3106.0</td>\n",
       "      <td>NaN</td>\n",
       "      <td>NaN</td>\n",
       "      <td>NaN</td>\n",
       "      <td>NaN</td>\n",
       "      <td>NaN</td>\n",
       "      <td>NaN</td>\n",
       "      <td>NaN</td>\n",
       "      <td>NaN</td>\n",
       "      <td>NaN</td>\n",
       "      <td>NaN</td>\n",
       "      <td>NaN</td>\n",
       "    </tr>\n",
       "    <tr>\n",
       "      <th>4</th>\n",
       "      <td>Marriages Registered</td>\n",
       "      <td>1961Q1</td>\n",
       "      <td>State</td>\n",
       "      <td>Number</td>\n",
       "      <td>2179.0</td>\n",
       "      <td>2179.0</td>\n",
       "      <td>NaN</td>\n",
       "      <td>NaN</td>\n",
       "      <td>NaN</td>\n",
       "      <td>NaN</td>\n",
       "      <td>NaN</td>\n",
       "      <td>NaN</td>\n",
       "      <td>NaN</td>\n",
       "      <td>NaN</td>\n",
       "      <td>NaN</td>\n",
       "      <td>NaN</td>\n",
       "      <td>NaN</td>\n",
       "    </tr>\n",
       "  </tbody>\n",
       "</table>\n",
       "</div>"
      ],
      "text/plain": [
       "        Statistic Label Quarter  State    UNIT   VALUE  Married  Death  Birth  \\\n",
       "0  Marriages Registered  1960Q1  State  Number  2987.0   2987.0    NaN    NaN   \n",
       "1  Marriages Registered  1960Q2  State  Number  3501.0   3501.0    NaN    NaN   \n",
       "2  Marriages Registered  1960Q3  State  Number  5900.0   5900.0    NaN    NaN   \n",
       "3  Marriages Registered  1960Q4  State  Number  3106.0   3106.0    NaN    NaN   \n",
       "4  Marriages Registered  1961Q1  State  Number  2179.0   2179.0    NaN    NaN   \n",
       "\n",
       "   B_outsideMarriage  Reg_Death/1000  Reg_inf_Death/1000  Mothers_age  CV_P_M  \\\n",
       "0                NaN             NaN                 NaN          NaN     NaN   \n",
       "1                NaN             NaN                 NaN          NaN     NaN   \n",
       "2                NaN             NaN                 NaN          NaN     NaN   \n",
       "3                NaN             NaN                 NaN          NaN     NaN   \n",
       "4                NaN             NaN                 NaN          NaN     NaN   \n",
       "\n",
       "   Reg_Death  Rate_Death/1000  Reg_Birth  Rate_marriage/1000  \n",
       "0        NaN              NaN        NaN                 NaN  \n",
       "1        NaN              NaN        NaN                 NaN  \n",
       "2        NaN              NaN        NaN                 NaN  \n",
       "3        NaN              NaN        NaN                 NaN  \n",
       "4        NaN              NaN        NaN                 NaN  "
      ]
     },
     "execution_count": 25,
     "metadata": {},
     "output_type": "execute_result"
    }
   ],
   "source": [
    "pop.head()"
   ]
  },
  {
   "cell_type": "code",
   "execution_count": null,
   "id": "b214fc7a",
   "metadata": {},
   "outputs": [],
   "source": []
  },
  {
   "cell_type": "code",
   "execution_count": 26,
   "id": "8fe0036c",
   "metadata": {},
   "outputs": [
    {
     "data": {
      "text/plain": [
       "4301"
      ]
     },
     "execution_count": 26,
     "metadata": {},
     "output_type": "execute_result"
    }
   ],
   "source": [
    "pop['Death'].isnull().sum()"
   ]
  },
  {
   "cell_type": "code",
   "execution_count": 27,
   "id": "cf508935",
   "metadata": {},
   "outputs": [
    {
     "data": {
      "text/plain": [
       "(4554,)"
      ]
     },
     "execution_count": 27,
     "metadata": {},
     "output_type": "execute_result"
    }
   ],
   "source": [
    "pop['Death'].shape"
   ]
  },
  {
   "cell_type": "code",
   "execution_count": 28,
   "id": "f7919306",
   "metadata": {},
   "outputs": [
    {
     "data": {
      "text/plain": [
       "Statistic Label          0\n",
       "Quarter                  0\n",
       "State                    0\n",
       "UNIT                     0\n",
       "VALUE                 2728\n",
       "Married               4301\n",
       "Death                 4301\n",
       "Birth                 4301\n",
       "B_outsideMarriage     4549\n",
       "Reg_Death/1000        4301\n",
       "Reg_inf_Death/1000    4301\n",
       "Mothers_age           4549\n",
       "CV_P_M                4549\n",
       "Reg_Death             4301\n",
       "Rate_Death/1000       4301\n",
       "Reg_Birth             4301\n",
       "Rate_marriage/1000    4301\n",
       "dtype: int64"
      ]
     },
     "execution_count": 28,
     "metadata": {},
     "output_type": "execute_result"
    }
   ],
   "source": [
    "pop.isnull().sum()"
   ]
  },
  {
   "cell_type": "code",
   "execution_count": null,
   "id": "ccd74032",
   "metadata": {},
   "outputs": [],
   "source": []
  }
 ],
 "metadata": {
  "kernelspec": {
   "display_name": "Python 3 (ipykernel)",
   "language": "python",
   "name": "python3"
  },
  "language_info": {
   "codemirror_mode": {
    "name": "ipython",
    "version": 3
   },
   "file_extension": ".py",
   "mimetype": "text/x-python",
   "name": "python",
   "nbconvert_exporter": "python",
   "pygments_lexer": "ipython3",
   "version": "3.11.4"
  }
 },
 "nbformat": 4,
 "nbformat_minor": 5
}
