{
 "cells": [
  {
   "cell_type": "markdown",
   "id": "f0b20e39",
   "metadata": {},
   "source": [
    "# Population decline analysis"
   ]
  },
  {
   "cell_type": "code",
   "execution_count": 1,
   "id": "9eac451b",
   "metadata": {},
   "outputs": [],
   "source": [
    "import numpy as np\n",
    "import pandas as pd\n",
    "import matplotlib.pyplot as plt\n",
    "import seaborn as sns"
   ]
  },
  {
   "cell_type": "code",
   "execution_count": 5,
   "id": "daae8a76",
   "metadata": {},
   "outputs": [
    {
     "data": {
      "text/html": [
       "<div>\n",
       "<style scoped>\n",
       "    .dataframe tbody tr th:only-of-type {\n",
       "        vertical-align: middle;\n",
       "    }\n",
       "\n",
       "    .dataframe tbody tr th {\n",
       "        vertical-align: top;\n",
       "    }\n",
       "\n",
       "    .dataframe thead th {\n",
       "        text-align: right;\n",
       "    }\n",
       "</style>\n",
       "<table border=\"1\" class=\"dataframe\">\n",
       "  <thead>\n",
       "    <tr style=\"text-align: right;\">\n",
       "      <th></th>\n",
       "      <th>Statistic Label</th>\n",
       "      <th>Quarter</th>\n",
       "      <th>State</th>\n",
       "      <th>UNIT</th>\n",
       "      <th>VALUE</th>\n",
       "    </tr>\n",
       "  </thead>\n",
       "  <tbody>\n",
       "    <tr>\n",
       "      <th>0</th>\n",
       "      <td>Marriages Registered</td>\n",
       "      <td>1960Q1</td>\n",
       "      <td>State</td>\n",
       "      <td>Number</td>\n",
       "      <td>2987.0</td>\n",
       "    </tr>\n",
       "    <tr>\n",
       "      <th>1</th>\n",
       "      <td>Marriages Registered</td>\n",
       "      <td>1960Q2</td>\n",
       "      <td>State</td>\n",
       "      <td>Number</td>\n",
       "      <td>3501.0</td>\n",
       "    </tr>\n",
       "    <tr>\n",
       "      <th>2</th>\n",
       "      <td>Marriages Registered</td>\n",
       "      <td>1960Q3</td>\n",
       "      <td>State</td>\n",
       "      <td>Number</td>\n",
       "      <td>5900.0</td>\n",
       "    </tr>\n",
       "    <tr>\n",
       "      <th>3</th>\n",
       "      <td>Marriages Registered</td>\n",
       "      <td>1960Q4</td>\n",
       "      <td>State</td>\n",
       "      <td>Number</td>\n",
       "      <td>3106.0</td>\n",
       "    </tr>\n",
       "    <tr>\n",
       "      <th>4</th>\n",
       "      <td>Marriages Registered</td>\n",
       "      <td>1961Q1</td>\n",
       "      <td>State</td>\n",
       "      <td>Number</td>\n",
       "      <td>2179.0</td>\n",
       "    </tr>\n",
       "  </tbody>\n",
       "</table>\n",
       "</div>"
      ],
      "text/plain": [
       "        Statistic Label Quarter  State    UNIT   VALUE\n",
       "0  Marriages Registered  1960Q1  State  Number  2987.0\n",
       "1  Marriages Registered  1960Q2  State  Number  3501.0\n",
       "2  Marriages Registered  1960Q3  State  Number  5900.0\n",
       "3  Marriages Registered  1960Q4  State  Number  3106.0\n",
       "4  Marriages Registered  1961Q1  State  Number  2179.0"
      ]
     },
     "execution_count": 5,
     "metadata": {},
     "output_type": "execute_result"
    }
   ],
   "source": [
    "pop= pd.read_csv(\"Total Births, Deaths and Marriages Registered.csv\")\n",
    "pop.head()"
   ]
  },
  {
   "cell_type": "markdown",
   "id": "a19c9fb9",
   "metadata": {},
   "source": [
    "In other to explore population declin hypothesis in ireland i consulted with domain knowledgible professionals\n",
    "Populkation of married couples in ireland does not have a direct corrolation wirth population declin or increase according to domain knowledge. Because not all married people decide to have offsp"
   ]
  }
 ],
 "metadata": {
  "kernelspec": {
   "display_name": "Python 3 (ipykernel)",
   "language": "python",
   "name": "python3"
  },
  "language_info": {
   "codemirror_mode": {
    "name": "ipython",
    "version": 3
   },
   "file_extension": ".py",
   "mimetype": "text/x-python",
   "name": "python",
   "nbconvert_exporter": "python",
   "pygments_lexer": "ipython3",
   "version": "3.11.4"
  }
 },
 "nbformat": 4,
 "nbformat_minor": 5
}
