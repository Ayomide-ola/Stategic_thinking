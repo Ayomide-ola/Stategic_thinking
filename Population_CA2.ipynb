{
 "cells": [
  {
   "cell_type": "markdown",
   "id": "b3fd9df3",
   "metadata": {},
   "source": [
    "# Population decline analysis"
   ]
  },
  {
   "cell_type": "code",
   "execution_count": 1,
   "id": "1f178754",
   "metadata": {},
   "outputs": [],
   "source": [
    "import numpy as np\n",
    "import pandas as pd\n",
    "import matplotlib.pyplot as plt\n",
    "import seaborn as sns"
   ]
  },
  {
   "cell_type": "code",
   "execution_count": 2,
   "id": "dec72ab6",
   "metadata": {},
   "outputs": [
    {
     "data": {
      "text/html": [
       "<div>\n",
       "<style scoped>\n",
       "    .dataframe tbody tr th:only-of-type {\n",
       "        vertical-align: middle;\n",
       "    }\n",
       "\n",
       "    .dataframe tbody tr th {\n",
       "        vertical-align: top;\n",
       "    }\n",
       "\n",
       "    .dataframe thead th {\n",
       "        text-align: right;\n",
       "    }\n",
       "</style>\n",
       "<table border=\"1\" class=\"dataframe\">\n",
       "  <thead>\n",
       "    <tr style=\"text-align: right;\">\n",
       "      <th></th>\n",
       "      <th>Statistic Label</th>\n",
       "      <th>Quarter</th>\n",
       "      <th>State</th>\n",
       "      <th>UNIT</th>\n",
       "      <th>VALUE</th>\n",
       "    </tr>\n",
       "  </thead>\n",
       "  <tbody>\n",
       "    <tr>\n",
       "      <th>0</th>\n",
       "      <td>Marriages Registered</td>\n",
       "      <td>1960Q1</td>\n",
       "      <td>State</td>\n",
       "      <td>Number</td>\n",
       "      <td>2987.0</td>\n",
       "    </tr>\n",
       "    <tr>\n",
       "      <th>1</th>\n",
       "      <td>Marriages Registered</td>\n",
       "      <td>1960Q2</td>\n",
       "      <td>State</td>\n",
       "      <td>Number</td>\n",
       "      <td>3501.0</td>\n",
       "    </tr>\n",
       "    <tr>\n",
       "      <th>2</th>\n",
       "      <td>Marriages Registered</td>\n",
       "      <td>1960Q3</td>\n",
       "      <td>State</td>\n",
       "      <td>Number</td>\n",
       "      <td>5900.0</td>\n",
       "    </tr>\n",
       "    <tr>\n",
       "      <th>3</th>\n",
       "      <td>Marriages Registered</td>\n",
       "      <td>1960Q4</td>\n",
       "      <td>State</td>\n",
       "      <td>Number</td>\n",
       "      <td>3106.0</td>\n",
       "    </tr>\n",
       "    <tr>\n",
       "      <th>4</th>\n",
       "      <td>Marriages Registered</td>\n",
       "      <td>1961Q1</td>\n",
       "      <td>State</td>\n",
       "      <td>Number</td>\n",
       "      <td>2179.0</td>\n",
       "    </tr>\n",
       "  </tbody>\n",
       "</table>\n",
       "</div>"
      ],
      "text/plain": [
       "        Statistic Label Quarter  State    UNIT   VALUE\n",
       "0  Marriages Registered  1960Q1  State  Number  2987.0\n",
       "1  Marriages Registered  1960Q2  State  Number  3501.0\n",
       "2  Marriages Registered  1960Q3  State  Number  5900.0\n",
       "3  Marriages Registered  1960Q4  State  Number  3106.0\n",
       "4  Marriages Registered  1961Q1  State  Number  2179.0"
      ]
     },
     "execution_count": 2,
     "metadata": {},
     "output_type": "execute_result"
    }
   ],
   "source": [
    "pop= pd.read_csv(\"Total Births, Deaths and Marriages Registered.csv\")\n",
    "pop.head()"
   ]
  },
  {
   "cell_type": "code",
   "execution_count": 14,
   "id": "7b165ffd",
   "metadata": {},
   "outputs": [
    {
     "data": {
      "text/plain": [
       "(4554, 12)"
      ]
     },
     "execution_count": 14,
     "metadata": {},
     "output_type": "execute_result"
    }
   ],
   "source": [
    "pop.shape"
   ]
  },
  {
   "cell_type": "markdown",
   "id": "9477ef0b",
   "metadata": {},
   "source": [
    "## Note rationale for seeking domain knowledge and findings\n",
    "In other to explore population declin hypothesis in ireland i consulted with domain knowledgible professionals\n",
    "Populkation of married couples in ireland does not have a direct corrolation wirth population declin or increase according to domain knowledge. Because not all married people decide to have offsprings, some adopt and some where unable to have offsprings for biological r3easons. Thus is why i decided to drip the marriage column in the popularion projevt. "
   ]
  },
  {
   "cell_type": "code",
   "execution_count": 3,
   "id": "f0a98d3d",
   "metadata": {},
   "outputs": [],
   "source": [
    "pop['Married'] = pop['VALUE'][pop['Statistic Label']=='Marriages Registered']"
   ]
  },
  {
   "cell_type": "code",
   "execution_count": 4,
   "id": "195ebaac",
   "metadata": {},
   "outputs": [
    {
     "data": {
      "text/html": [
       "<div>\n",
       "<style scoped>\n",
       "    .dataframe tbody tr th:only-of-type {\n",
       "        vertical-align: middle;\n",
       "    }\n",
       "\n",
       "    .dataframe tbody tr th {\n",
       "        vertical-align: top;\n",
       "    }\n",
       "\n",
       "    .dataframe thead th {\n",
       "        text-align: right;\n",
       "    }\n",
       "</style>\n",
       "<table border=\"1\" class=\"dataframe\">\n",
       "  <thead>\n",
       "    <tr style=\"text-align: right;\">\n",
       "      <th></th>\n",
       "      <th>Statistic Label</th>\n",
       "      <th>Quarter</th>\n",
       "      <th>State</th>\n",
       "      <th>UNIT</th>\n",
       "      <th>VALUE</th>\n",
       "      <th>Married</th>\n",
       "    </tr>\n",
       "  </thead>\n",
       "  <tbody>\n",
       "    <tr>\n",
       "      <th>0</th>\n",
       "      <td>Marriages Registered</td>\n",
       "      <td>1960Q1</td>\n",
       "      <td>State</td>\n",
       "      <td>Number</td>\n",
       "      <td>2987.0</td>\n",
       "      <td>2987.0</td>\n",
       "    </tr>\n",
       "    <tr>\n",
       "      <th>1</th>\n",
       "      <td>Marriages Registered</td>\n",
       "      <td>1960Q2</td>\n",
       "      <td>State</td>\n",
       "      <td>Number</td>\n",
       "      <td>3501.0</td>\n",
       "      <td>3501.0</td>\n",
       "    </tr>\n",
       "    <tr>\n",
       "      <th>2</th>\n",
       "      <td>Marriages Registered</td>\n",
       "      <td>1960Q3</td>\n",
       "      <td>State</td>\n",
       "      <td>Number</td>\n",
       "      <td>5900.0</td>\n",
       "      <td>5900.0</td>\n",
       "    </tr>\n",
       "    <tr>\n",
       "      <th>3</th>\n",
       "      <td>Marriages Registered</td>\n",
       "      <td>1960Q4</td>\n",
       "      <td>State</td>\n",
       "      <td>Number</td>\n",
       "      <td>3106.0</td>\n",
       "      <td>3106.0</td>\n",
       "    </tr>\n",
       "    <tr>\n",
       "      <th>4</th>\n",
       "      <td>Marriages Registered</td>\n",
       "      <td>1961Q1</td>\n",
       "      <td>State</td>\n",
       "      <td>Number</td>\n",
       "      <td>2179.0</td>\n",
       "      <td>2179.0</td>\n",
       "    </tr>\n",
       "  </tbody>\n",
       "</table>\n",
       "</div>"
      ],
      "text/plain": [
       "        Statistic Label Quarter  State    UNIT   VALUE  Married\n",
       "0  Marriages Registered  1960Q1  State  Number  2987.0   2987.0\n",
       "1  Marriages Registered  1960Q2  State  Number  3501.0   3501.0\n",
       "2  Marriages Registered  1960Q3  State  Number  5900.0   5900.0\n",
       "3  Marriages Registered  1960Q4  State  Number  3106.0   3106.0\n",
       "4  Marriages Registered  1961Q1  State  Number  2179.0   2179.0"
      ]
     },
     "execution_count": 4,
     "metadata": {},
     "output_type": "execute_result"
    }
   ],
   "source": [
    "pop.head()"
   ]
  },
  {
   "cell_type": "code",
   "execution_count": 29,
   "id": "c8f336dc",
   "metadata": {},
   "outputs": [
    {
     "data": {
      "text/plain": [
       "array(['Marriages Registered',\n",
       "       'Marriage Rate Registered per 1000 Estimated Population',\n",
       "       'Deaths Registered',\n",
       "       'Death Rate Registered per 1000 Estimated Population',\n",
       "       'Deaths of Infants under 1 Year Registered per 1000 Births',\n",
       "       'Births Registered',\n",
       "       'Birth Rate Registered per 1000 Estimated Population',\n",
       "       'Opposite sex marriages', 'Same sex marriages',\n",
       "       'Civil partnerships', 'Births registered that were first births',\n",
       "       'Births registered outside marriage', 'Opposite sex marriage rate',\n",
       "       'Same sex marriage rate', 'Civil partnership marriage rate',\n",
       "       'Percentage of first births registered',\n",
       "       'Percentage of births registered outside marriage',\n",
       "       'Average age of mothers giving birth'], dtype=object)"
      ]
     },
     "execution_count": 29,
     "metadata": {},
     "output_type": "execute_result"
    }
   ],
   "source": [
    "pop['Statistic Label'].unique()"
   ]
  },
  {
   "cell_type": "markdown",
   "id": "f3e508ef",
   "metadata": {},
   "source": [
    "As shown above in the pop dataframe(df), there are by deault 4 columns and 4554 rows. However, I used 'unique()' method  on Statistic Label column to see the unique observations in it, this unique values have their corresponding values. In other to explore each unique oberservation and its corresponding values, i need to extract the unique values into columns. Frthermore the values values are observaved for 4 quarters in a year. "
   ]
  },
  {
   "cell_type": "code",
   "execution_count": 17,
   "id": "eb30810b",
   "metadata": {},
   "outputs": [],
   "source": [
    "pop['Reg_Death'] = pop['VALUE'][pop['Statistic Label']=='Deaths Registered']"
   ]
  },
  {
   "cell_type": "code",
   "execution_count": 18,
   "id": "2fc46ac6",
   "metadata": {},
   "outputs": [],
   "source": [
    "pop['Rate_Death/1000'] = pop['VALUE'][pop['Statistic Label']=='Death Rate Registered per 1000 Estimated Population']"
   ]
  },
  {
   "cell_type": "code",
   "execution_count": 19,
   "id": "81965758",
   "metadata": {},
   "outputs": [],
   "source": [
    "pop['Reg_inf_Death/1000'] = pop['VALUE'][pop['Statistic Label']=='Deaths of Infants under 1 Year Registered per 1000 Births']"
   ]
  },
  {
   "cell_type": "code",
   "execution_count": 20,
   "id": "2ceffd21",
   "metadata": {},
   "outputs": [],
   "source": [
    "pop['Reg_Birth'] = pop['VALUE'][pop['Statistic Label']=='Births Registered']"
   ]
  },
  {
   "cell_type": "code",
   "execution_count": 21,
   "id": "887eaa10",
   "metadata": {},
   "outputs": [],
   "source": [
    "pop['B_outsideMarriage'] = pop['VALUE'][pop['Statistic Label']=='Percentage of births registered outside marriage']"
   ]
  },
  {
   "cell_type": "code",
   "execution_count": 22,
   "id": "c49e2581",
   "metadata": {},
   "outputs": [],
   "source": [
    "pop['Mothers_age'] = pop['VALUE'][pop['Statistic Label']== 'Average age of mothers giving birth']"
   ]
  },
  {
   "cell_type": "code",
   "execution_count": 23,
   "id": "9a6bf552",
   "metadata": {},
   "outputs": [],
   "source": [
    "pop['CV_P_M'] = pop['VALUE'][pop['Statistic Label']== 'Civil partnership marriage rate']"
   ]
  },
  {
   "cell_type": "code",
   "execution_count": 24,
   "id": "fcb41de3",
   "metadata": {},
   "outputs": [],
   "source": [
    "pop['Rate_marriage/1000'] = pop['VALUE'][pop['Statistic Label']== 'Marriage Rate Registered per 1000 Estimated Population']"
   ]
  },
  {
   "cell_type": "code",
   "execution_count": 25,
   "id": "de1936eb",
   "metadata": {},
   "outputs": [
    {
     "data": {
      "text/html": [
       "<div>\n",
       "<style scoped>\n",
       "    .dataframe tbody tr th:only-of-type {\n",
       "        vertical-align: middle;\n",
       "    }\n",
       "\n",
       "    .dataframe tbody tr th {\n",
       "        vertical-align: top;\n",
       "    }\n",
       "\n",
       "    .dataframe thead th {\n",
       "        text-align: right;\n",
       "    }\n",
       "</style>\n",
       "<table border=\"1\" class=\"dataframe\">\n",
       "  <thead>\n",
       "    <tr style=\"text-align: right;\">\n",
       "      <th></th>\n",
       "      <th>Statistic Label</th>\n",
       "      <th>Quarter</th>\n",
       "      <th>State</th>\n",
       "      <th>UNIT</th>\n",
       "      <th>VALUE</th>\n",
       "      <th>Married</th>\n",
       "      <th>Death</th>\n",
       "      <th>Birth</th>\n",
       "      <th>B_outsideMarriage</th>\n",
       "      <th>Reg_Death/1000</th>\n",
       "      <th>Reg_inf_Death/1000</th>\n",
       "      <th>Mothers_age</th>\n",
       "      <th>CV_P_M</th>\n",
       "      <th>Reg_Death</th>\n",
       "      <th>Rate_Death/1000</th>\n",
       "      <th>Reg_Birth</th>\n",
       "      <th>Rate_marriage/1000</th>\n",
       "    </tr>\n",
       "  </thead>\n",
       "  <tbody>\n",
       "    <tr>\n",
       "      <th>0</th>\n",
       "      <td>Marriages Registered</td>\n",
       "      <td>1960Q1</td>\n",
       "      <td>State</td>\n",
       "      <td>Number</td>\n",
       "      <td>2987.0</td>\n",
       "      <td>2987.0</td>\n",
       "      <td>NaN</td>\n",
       "      <td>NaN</td>\n",
       "      <td>NaN</td>\n",
       "      <td>NaN</td>\n",
       "      <td>NaN</td>\n",
       "      <td>NaN</td>\n",
       "      <td>NaN</td>\n",
       "      <td>NaN</td>\n",
       "      <td>NaN</td>\n",
       "      <td>NaN</td>\n",
       "      <td>NaN</td>\n",
       "    </tr>\n",
       "    <tr>\n",
       "      <th>1</th>\n",
       "      <td>Marriages Registered</td>\n",
       "      <td>1960Q2</td>\n",
       "      <td>State</td>\n",
       "      <td>Number</td>\n",
       "      <td>3501.0</td>\n",
       "      <td>3501.0</td>\n",
       "      <td>NaN</td>\n",
       "      <td>NaN</td>\n",
       "      <td>NaN</td>\n",
       "      <td>NaN</td>\n",
       "      <td>NaN</td>\n",
       "      <td>NaN</td>\n",
       "      <td>NaN</td>\n",
       "      <td>NaN</td>\n",
       "      <td>NaN</td>\n",
       "      <td>NaN</td>\n",
       "      <td>NaN</td>\n",
       "    </tr>\n",
       "    <tr>\n",
       "      <th>2</th>\n",
       "      <td>Marriages Registered</td>\n",
       "      <td>1960Q3</td>\n",
       "      <td>State</td>\n",
       "      <td>Number</td>\n",
       "      <td>5900.0</td>\n",
       "      <td>5900.0</td>\n",
       "      <td>NaN</td>\n",
       "      <td>NaN</td>\n",
       "      <td>NaN</td>\n",
       "      <td>NaN</td>\n",
       "      <td>NaN</td>\n",
       "      <td>NaN</td>\n",
       "      <td>NaN</td>\n",
       "      <td>NaN</td>\n",
       "      <td>NaN</td>\n",
       "      <td>NaN</td>\n",
       "      <td>NaN</td>\n",
       "    </tr>\n",
       "    <tr>\n",
       "      <th>3</th>\n",
       "      <td>Marriages Registered</td>\n",
       "      <td>1960Q4</td>\n",
       "      <td>State</td>\n",
       "      <td>Number</td>\n",
       "      <td>3106.0</td>\n",
       "      <td>3106.0</td>\n",
       "      <td>NaN</td>\n",
       "      <td>NaN</td>\n",
       "      <td>NaN</td>\n",
       "      <td>NaN</td>\n",
       "      <td>NaN</td>\n",
       "      <td>NaN</td>\n",
       "      <td>NaN</td>\n",
       "      <td>NaN</td>\n",
       "      <td>NaN</td>\n",
       "      <td>NaN</td>\n",
       "      <td>NaN</td>\n",
       "    </tr>\n",
       "    <tr>\n",
       "      <th>4</th>\n",
       "      <td>Marriages Registered</td>\n",
       "      <td>1961Q1</td>\n",
       "      <td>State</td>\n",
       "      <td>Number</td>\n",
       "      <td>2179.0</td>\n",
       "      <td>2179.0</td>\n",
       "      <td>NaN</td>\n",
       "      <td>NaN</td>\n",
       "      <td>NaN</td>\n",
       "      <td>NaN</td>\n",
       "      <td>NaN</td>\n",
       "      <td>NaN</td>\n",
       "      <td>NaN</td>\n",
       "      <td>NaN</td>\n",
       "      <td>NaN</td>\n",
       "      <td>NaN</td>\n",
       "      <td>NaN</td>\n",
       "    </tr>\n",
       "  </tbody>\n",
       "</table>\n",
       "</div>"
      ],
      "text/plain": [
       "        Statistic Label Quarter  State    UNIT   VALUE  Married  Death  Birth  \\\n",
       "0  Marriages Registered  1960Q1  State  Number  2987.0   2987.0    NaN    NaN   \n",
       "1  Marriages Registered  1960Q2  State  Number  3501.0   3501.0    NaN    NaN   \n",
       "2  Marriages Registered  1960Q3  State  Number  5900.0   5900.0    NaN    NaN   \n",
       "3  Marriages Registered  1960Q4  State  Number  3106.0   3106.0    NaN    NaN   \n",
       "4  Marriages Registered  1961Q1  State  Number  2179.0   2179.0    NaN    NaN   \n",
       "\n",
       "   B_outsideMarriage  Reg_Death/1000  Reg_inf_Death/1000  Mothers_age  CV_P_M  \\\n",
       "0                NaN             NaN                 NaN          NaN     NaN   \n",
       "1                NaN             NaN                 NaN          NaN     NaN   \n",
       "2                NaN             NaN                 NaN          NaN     NaN   \n",
       "3                NaN             NaN                 NaN          NaN     NaN   \n",
       "4                NaN             NaN                 NaN          NaN     NaN   \n",
       "\n",
       "   Reg_Death  Rate_Death/1000  Reg_Birth  Rate_marriage/1000  \n",
       "0        NaN              NaN        NaN                 NaN  \n",
       "1        NaN              NaN        NaN                 NaN  \n",
       "2        NaN              NaN        NaN                 NaN  \n",
       "3        NaN              NaN        NaN                 NaN  \n",
       "4        NaN              NaN        NaN                 NaN  "
      ]
     },
     "execution_count": 25,
     "metadata": {},
     "output_type": "execute_result"
    }
   ],
   "source": [
    "pop.head()"
   ]
  },
  {
   "cell_type": "code",
   "execution_count": 32,
   "id": "0271c839",
   "metadata": {},
   "outputs": [
    {
     "data": {
      "text/html": [
       "<div>\n",
       "<style scoped>\n",
       "    .dataframe tbody tr th:only-of-type {\n",
       "        vertical-align: middle;\n",
       "    }\n",
       "\n",
       "    .dataframe tbody tr th {\n",
       "        vertical-align: top;\n",
       "    }\n",
       "\n",
       "    .dataframe thead th {\n",
       "        text-align: right;\n",
       "    }\n",
       "</style>\n",
       "<table border=\"1\" class=\"dataframe\">\n",
       "  <thead>\n",
       "    <tr style=\"text-align: right;\">\n",
       "      <th></th>\n",
       "      <th>Statistic Label</th>\n",
       "      <th>Quarter</th>\n",
       "      <th>State</th>\n",
       "      <th>UNIT</th>\n",
       "      <th>VALUE</th>\n",
       "      <th>Married</th>\n",
       "      <th>Death</th>\n",
       "      <th>Birth</th>\n",
       "      <th>B_outsideMarriage</th>\n",
       "      <th>Reg_Death/1000</th>\n",
       "      <th>Reg_inf_Death/1000</th>\n",
       "      <th>Mothers_age</th>\n",
       "      <th>CV_P_M</th>\n",
       "      <th>Reg_Death</th>\n",
       "      <th>Rate_Death/1000</th>\n",
       "      <th>Reg_Birth</th>\n",
       "      <th>Rate_marriage/1000</th>\n",
       "    </tr>\n",
       "  </thead>\n",
       "  <tbody>\n",
       "    <tr>\n",
       "      <th>4549</th>\n",
       "      <td>Average age of mothers giving birth</td>\n",
       "      <td>2022Q1</td>\n",
       "      <td>State</td>\n",
       "      <td>Number</td>\n",
       "      <td>33.3</td>\n",
       "      <td>NaN</td>\n",
       "      <td>NaN</td>\n",
       "      <td>NaN</td>\n",
       "      <td>NaN</td>\n",
       "      <td>NaN</td>\n",
       "      <td>NaN</td>\n",
       "      <td>33.3</td>\n",
       "      <td>NaN</td>\n",
       "      <td>NaN</td>\n",
       "      <td>NaN</td>\n",
       "      <td>NaN</td>\n",
       "      <td>NaN</td>\n",
       "    </tr>\n",
       "    <tr>\n",
       "      <th>4550</th>\n",
       "      <td>Average age of mothers giving birth</td>\n",
       "      <td>2022Q2</td>\n",
       "      <td>State</td>\n",
       "      <td>Number</td>\n",
       "      <td>33.2</td>\n",
       "      <td>NaN</td>\n",
       "      <td>NaN</td>\n",
       "      <td>NaN</td>\n",
       "      <td>NaN</td>\n",
       "      <td>NaN</td>\n",
       "      <td>NaN</td>\n",
       "      <td>33.2</td>\n",
       "      <td>NaN</td>\n",
       "      <td>NaN</td>\n",
       "      <td>NaN</td>\n",
       "      <td>NaN</td>\n",
       "      <td>NaN</td>\n",
       "    </tr>\n",
       "    <tr>\n",
       "      <th>4551</th>\n",
       "      <td>Average age of mothers giving birth</td>\n",
       "      <td>2022Q3</td>\n",
       "      <td>State</td>\n",
       "      <td>Number</td>\n",
       "      <td>33.2</td>\n",
       "      <td>NaN</td>\n",
       "      <td>NaN</td>\n",
       "      <td>NaN</td>\n",
       "      <td>NaN</td>\n",
       "      <td>NaN</td>\n",
       "      <td>NaN</td>\n",
       "      <td>33.2</td>\n",
       "      <td>NaN</td>\n",
       "      <td>NaN</td>\n",
       "      <td>NaN</td>\n",
       "      <td>NaN</td>\n",
       "      <td>NaN</td>\n",
       "    </tr>\n",
       "    <tr>\n",
       "      <th>4552</th>\n",
       "      <td>Average age of mothers giving birth</td>\n",
       "      <td>2022Q4</td>\n",
       "      <td>State</td>\n",
       "      <td>Number</td>\n",
       "      <td>33.2</td>\n",
       "      <td>NaN</td>\n",
       "      <td>NaN</td>\n",
       "      <td>NaN</td>\n",
       "      <td>NaN</td>\n",
       "      <td>NaN</td>\n",
       "      <td>NaN</td>\n",
       "      <td>33.2</td>\n",
       "      <td>NaN</td>\n",
       "      <td>NaN</td>\n",
       "      <td>NaN</td>\n",
       "      <td>NaN</td>\n",
       "      <td>NaN</td>\n",
       "    </tr>\n",
       "    <tr>\n",
       "      <th>4553</th>\n",
       "      <td>Average age of mothers giving birth</td>\n",
       "      <td>2023Q1</td>\n",
       "      <td>State</td>\n",
       "      <td>Number</td>\n",
       "      <td>33.2</td>\n",
       "      <td>NaN</td>\n",
       "      <td>NaN</td>\n",
       "      <td>NaN</td>\n",
       "      <td>NaN</td>\n",
       "      <td>NaN</td>\n",
       "      <td>NaN</td>\n",
       "      <td>33.2</td>\n",
       "      <td>NaN</td>\n",
       "      <td>NaN</td>\n",
       "      <td>NaN</td>\n",
       "      <td>NaN</td>\n",
       "      <td>NaN</td>\n",
       "    </tr>\n",
       "  </tbody>\n",
       "</table>\n",
       "</div>"
      ],
      "text/plain": [
       "                          Statistic Label Quarter  State    UNIT  VALUE  \\\n",
       "4549  Average age of mothers giving birth  2022Q1  State  Number   33.3   \n",
       "4550  Average age of mothers giving birth  2022Q2  State  Number   33.2   \n",
       "4551  Average age of mothers giving birth  2022Q3  State  Number   33.2   \n",
       "4552  Average age of mothers giving birth  2022Q4  State  Number   33.2   \n",
       "4553  Average age of mothers giving birth  2023Q1  State  Number   33.2   \n",
       "\n",
       "      Married  Death  Birth  B_outsideMarriage  Reg_Death/1000  \\\n",
       "4549      NaN    NaN    NaN                NaN             NaN   \n",
       "4550      NaN    NaN    NaN                NaN             NaN   \n",
       "4551      NaN    NaN    NaN                NaN             NaN   \n",
       "4552      NaN    NaN    NaN                NaN             NaN   \n",
       "4553      NaN    NaN    NaN                NaN             NaN   \n",
       "\n",
       "      Reg_inf_Death/1000  Mothers_age  CV_P_M  Reg_Death  Rate_Death/1000  \\\n",
       "4549                 NaN         33.3     NaN        NaN              NaN   \n",
       "4550                 NaN         33.2     NaN        NaN              NaN   \n",
       "4551                 NaN         33.2     NaN        NaN              NaN   \n",
       "4552                 NaN         33.2     NaN        NaN              NaN   \n",
       "4553                 NaN         33.2     NaN        NaN              NaN   \n",
       "\n",
       "      Reg_Birth  Rate_marriage/1000  \n",
       "4549        NaN                 NaN  \n",
       "4550        NaN                 NaN  \n",
       "4551        NaN                 NaN  \n",
       "4552        NaN                 NaN  \n",
       "4553        NaN                 NaN  "
      ]
     },
     "execution_count": 32,
     "metadata": {},
     "output_type": "execute_result"
    }
   ],
   "source": [
    "pop.tail()"
   ]
  },
  {
   "cell_type": "code",
   "execution_count": 30,
   "id": "02b4fd97",
   "metadata": {},
   "outputs": [
    {
     "data": {
      "text/plain": [
       "array(['1960Q1', '1960Q2', '1960Q3', '1960Q4', '1961Q1', '1961Q2',\n",
       "       '1961Q3', '1961Q4', '1962Q1', '1962Q2', '1962Q3', '1962Q4',\n",
       "       '1963Q1', '1963Q2', '1963Q3', '1963Q4', '1964Q1', '1964Q2',\n",
       "       '1964Q3', '1964Q4', '1965Q1', '1965Q2', '1965Q3', '1965Q4',\n",
       "       '1966Q1', '1966Q2', '1966Q3', '1966Q4', '1967Q1', '1967Q2',\n",
       "       '1967Q3', '1967Q4', '1968Q1', '1968Q2', '1968Q3', '1968Q4',\n",
       "       '1969Q1', '1969Q2', '1969Q3', '1969Q4', '1970Q1', '1970Q2',\n",
       "       '1970Q3', '1970Q4', '1971Q1', '1971Q2', '1971Q3', '1971Q4',\n",
       "       '1972Q1', '1972Q2', '1972Q3', '1972Q4', '1973Q1', '1973Q2',\n",
       "       '1973Q3', '1973Q4', '1974Q1', '1974Q2', '1974Q3', '1974Q4',\n",
       "       '1975Q1', '1975Q2', '1975Q3', '1975Q4', '1976Q1', '1976Q2',\n",
       "       '1976Q3', '1976Q4', '1977Q1', '1977Q2', '1977Q3', '1977Q4',\n",
       "       '1978Q1', '1978Q2', '1978Q3', '1978Q4', '1979Q1', '1979Q2',\n",
       "       '1979Q3', '1979Q4', '1980Q1', '1980Q2', '1980Q3', '1980Q4',\n",
       "       '1981Q1', '1981Q2', '1981Q3', '1981Q4', '1982Q1', '1982Q2',\n",
       "       '1982Q3', '1982Q4', '1983Q1', '1983Q2', '1983Q3', '1983Q4',\n",
       "       '1984Q1', '1984Q2', '1984Q3', '1984Q4', '1985Q1', '1985Q2',\n",
       "       '1985Q3', '1985Q4', '1986Q1', '1986Q2', '1986Q3', '1986Q4',\n",
       "       '1987Q1', '1987Q2', '1987Q3', '1987Q4', '1988Q1', '1988Q2',\n",
       "       '1988Q3', '1988Q4', '1989Q1', '1989Q2', '1989Q3', '1989Q4',\n",
       "       '1990Q1', '1990Q2', '1990Q3', '1990Q4', '1991Q1', '1991Q2',\n",
       "       '1991Q3', '1991Q4', '1992Q1', '1992Q2', '1992Q3', '1992Q4',\n",
       "       '1993Q1', '1993Q2', '1993Q3', '1993Q4', '1994Q1', '1994Q2',\n",
       "       '1994Q3', '1994Q4', '1995Q1', '1995Q2', '1995Q3', '1995Q4',\n",
       "       '1996Q1', '1996Q2', '1996Q3', '1996Q4', '1997Q1', '1997Q2',\n",
       "       '1997Q3', '1997Q4', '1998Q1', '1998Q2', '1998Q3', '1998Q4',\n",
       "       '1999Q1', '1999Q2', '1999Q3', '1999Q4', '2000Q1', '2000Q2',\n",
       "       '2000Q3', '2000Q4', '2001Q1', '2001Q2', '2001Q3', '2001Q4',\n",
       "       '2002Q1', '2002Q2', '2002Q3', '2002Q4', '2003Q1', '2003Q2',\n",
       "       '2003Q3', '2003Q4', '2004Q1', '2004Q2', '2004Q3', '2004Q4',\n",
       "       '2005Q1', '2005Q2', '2005Q3', '2005Q4', '2006Q1', '2006Q2',\n",
       "       '2006Q3', '2006Q4', '2007Q1', '2007Q2', '2007Q3', '2007Q4',\n",
       "       '2008Q1', '2008Q2', '2008Q3', '2008Q4', '2009Q1', '2009Q2',\n",
       "       '2009Q3', '2009Q4', '2010Q1', '2010Q2', '2010Q3', '2010Q4',\n",
       "       '2011Q1', '2011Q2', '2011Q3', '2011Q4', '2012Q1', '2012Q2',\n",
       "       '2012Q3', '2012Q4', '2013Q1', '2013Q2', '2013Q3', '2013Q4',\n",
       "       '2014Q1', '2014Q2', '2014Q3', '2014Q4', '2015Q1', '2015Q2',\n",
       "       '2015Q3', '2015Q4', '2016Q1', '2016Q2', '2016Q3', '2016Q4',\n",
       "       '2017Q1', '2017Q2', '2017Q3', '2017Q4', '2018Q1', '2018Q2',\n",
       "       '2018Q3', '2018Q4', '2019Q1', '2019Q2', '2019Q3', '2019Q4',\n",
       "       '2020Q1', '2020Q2', '2020Q3', '2020Q4', '2021Q1', '2021Q2',\n",
       "       '2021Q3', '2021Q4', '2022Q1', '2022Q2', '2022Q3', '2022Q4',\n",
       "       '2023Q1'], dtype=object)"
      ]
     },
     "execution_count": 30,
     "metadata": {},
     "output_type": "execute_result"
    }
   ],
   "source": [
    "pop['Quarter'].unique()"
   ]
  },
  {
   "cell_type": "code",
   "execution_count": 31,
   "id": "58b8aecf",
   "metadata": {},
   "outputs": [
    {
     "data": {
      "text/plain": [
       "(4554,)"
      ]
     },
     "execution_count": 31,
     "metadata": {},
     "output_type": "execute_result"
    }
   ],
   "source": [
    "pop['Quarter'].shape"
   ]
  },
  {
   "cell_type": "code",
   "execution_count": 26,
   "id": "020d6dc2",
   "metadata": {},
   "outputs": [
    {
     "data": {
      "text/plain": [
       "4301"
      ]
     },
     "execution_count": 26,
     "metadata": {},
     "output_type": "execute_result"
    }
   ],
   "source": [
    "pop['Death'].isnull().sum()"
   ]
  },
  {
   "cell_type": "code",
   "execution_count": 27,
   "id": "b4aaf3ee",
   "metadata": {},
   "outputs": [
    {
     "data": {
      "text/plain": [
       "(4554,)"
      ]
     },
     "execution_count": 27,
     "metadata": {},
     "output_type": "execute_result"
    }
   ],
   "source": [
    "pop['Death'].shape"
   ]
  },
  {
   "cell_type": "code",
   "execution_count": 28,
   "id": "20cb2c55",
   "metadata": {},
   "outputs": [
    {
     "data": {
      "text/plain": [
       "Statistic Label          0\n",
       "Quarter                  0\n",
       "State                    0\n",
       "UNIT                     0\n",
       "VALUE                 2728\n",
       "Married               4301\n",
       "Death                 4301\n",
       "Birth                 4301\n",
       "B_outsideMarriage     4549\n",
       "Reg_Death/1000        4301\n",
       "Reg_inf_Death/1000    4301\n",
       "Mothers_age           4549\n",
       "CV_P_M                4549\n",
       "Reg_Death             4301\n",
       "Rate_Death/1000       4301\n",
       "Reg_Birth             4301\n",
       "Rate_marriage/1000    4301\n",
       "dtype: int64"
      ]
     },
     "execution_count": 28,
     "metadata": {},
     "output_type": "execute_result"
    }
   ],
   "source": [
    "pop.isnull().sum()"
   ]
  },
  {
   "cell_type": "markdown",
   "id": "4b1230e7",
   "metadata": {},
   "source": [
    "As shown above, though we have been able to extract the values of unique o=bservations in the statistic label, we have created understandablly enomous mising values. This is because where there are no observations, pandas will authomatically repkace the rows as missing in other to balance with the shape of the data. "
   ]
  },
  {
   "cell_type": "markdown",
   "id": "79fb59c9",
   "metadata": {},
   "source": [
    "## Percentage of null values\n",
    "This operation is used to calculate the proportion of missing values with values that are recorded in "
   ]
  },
  {
   "cell_type": "code",
   "execution_count": null,
   "id": "bca12926",
   "metadata": {},
   "outputs": [],
   "source": [
    "df.isnull().mean()*100 # Porcentage of missing data"
   ]
  },
  {
   "cell_type": "code",
   "execution_count": null,
   "id": "3d580e0e",
   "metadata": {},
   "outputs": [],
   "source": []
  },
  {
   "cell_type": "code",
   "execution_count": null,
   "id": "b4146076",
   "metadata": {},
   "outputs": [],
   "source": []
  }
 ],
 "metadata": {
  "kernelspec": {
   "display_name": "Python 3 (ipykernel)",
   "language": "python",
   "name": "python3"
  },
  "language_info": {
   "codemirror_mode": {
    "name": "ipython",
    "version": 3
   },
   "file_extension": ".py",
   "mimetype": "text/x-python",
   "name": "python",
   "nbconvert_exporter": "python",
   "pygments_lexer": "ipython3",
   "version": "3.11.4"
  }
 },
 "nbformat": 4,
 "nbformat_minor": 5
}
