{
 "cells": [
  {
   "cell_type": "code",
   "execution_count": 1,
   "id": "a4f60785",
   "metadata": {
    "ExecuteTime": {
     "end_time": "2022-10-06T18:14:25.291153Z",
     "start_time": "2022-10-06T18:14:23.040172Z"
    }
   },
   "outputs": [],
   "source": [
    "import warnings\n",
    "warnings.filterwarnings(\"ignore\")\n",
    "\n",
    "import pandas as pd \n",
    "import numpy as np\n",
    "import matplotlib.pyplot as plt\n",
    "\n",
    "from sklearn.model_selection import train_test_split\n",
    "from sklearn.preprocessing import StandardScaler\n",
    "from sklearn.linear_model import LinearRegression"
   ]
  },
  {
   "cell_type": "markdown",
   "id": "3607785c",
   "metadata": {},
   "source": [
    "# Import Data"
   ]
  },
  {
   "cell_type": "code",
   "execution_count": 2,
   "id": "30c2fa4a",
   "metadata": {
    "ExecuteTime": {
     "end_time": "2022-10-06T18:14:25.322807Z",
     "start_time": "2022-10-06T18:14:25.293168Z"
    }
   },
   "outputs": [
    {
     "data": {
      "text/html": [
       "<div>\n",
       "<style scoped>\n",
       "    .dataframe tbody tr th:only-of-type {\n",
       "        vertical-align: middle;\n",
       "    }\n",
       "\n",
       "    .dataframe tbody tr th {\n",
       "        vertical-align: top;\n",
       "    }\n",
       "\n",
       "    .dataframe thead th {\n",
       "        text-align: right;\n",
       "    }\n",
       "</style>\n",
       "<table border=\"1\" class=\"dataframe\">\n",
       "  <thead>\n",
       "    <tr style=\"text-align: right;\">\n",
       "      <th></th>\n",
       "      <th>Date</th>\n",
       "      <th>Open</th>\n",
       "      <th>High</th>\n",
       "      <th>Low</th>\n",
       "      <th>Close</th>\n",
       "      <th>Adj Close</th>\n",
       "      <th>Volume</th>\n",
       "    </tr>\n",
       "  </thead>\n",
       "  <tbody>\n",
       "    <tr>\n",
       "      <th>0</th>\n",
       "      <td>1980-12-12</td>\n",
       "      <td>0.128348</td>\n",
       "      <td>0.128906</td>\n",
       "      <td>0.128348</td>\n",
       "      <td>0.128348</td>\n",
       "      <td>0.100326</td>\n",
       "      <td>469033600</td>\n",
       "    </tr>\n",
       "    <tr>\n",
       "      <th>1</th>\n",
       "      <td>1980-12-15</td>\n",
       "      <td>0.122210</td>\n",
       "      <td>0.122210</td>\n",
       "      <td>0.121652</td>\n",
       "      <td>0.121652</td>\n",
       "      <td>0.095092</td>\n",
       "      <td>175884800</td>\n",
       "    </tr>\n",
       "    <tr>\n",
       "      <th>2</th>\n",
       "      <td>1980-12-16</td>\n",
       "      <td>0.113281</td>\n",
       "      <td>0.113281</td>\n",
       "      <td>0.112723</td>\n",
       "      <td>0.112723</td>\n",
       "      <td>0.088112</td>\n",
       "      <td>105728000</td>\n",
       "    </tr>\n",
       "    <tr>\n",
       "      <th>3</th>\n",
       "      <td>1980-12-17</td>\n",
       "      <td>0.115513</td>\n",
       "      <td>0.116071</td>\n",
       "      <td>0.115513</td>\n",
       "      <td>0.115513</td>\n",
       "      <td>0.090293</td>\n",
       "      <td>86441600</td>\n",
       "    </tr>\n",
       "    <tr>\n",
       "      <th>4</th>\n",
       "      <td>1980-12-18</td>\n",
       "      <td>0.118862</td>\n",
       "      <td>0.119420</td>\n",
       "      <td>0.118862</td>\n",
       "      <td>0.118862</td>\n",
       "      <td>0.092911</td>\n",
       "      <td>73449600</td>\n",
       "    </tr>\n",
       "  </tbody>\n",
       "</table>\n",
       "</div>"
      ],
      "text/plain": [
       "         Date      Open      High       Low     Close  Adj Close     Volume\n",
       "0  1980-12-12  0.128348  0.128906  0.128348  0.128348   0.100326  469033600\n",
       "1  1980-12-15  0.122210  0.122210  0.121652  0.121652   0.095092  175884800\n",
       "2  1980-12-16  0.113281  0.113281  0.112723  0.112723   0.088112  105728000\n",
       "3  1980-12-17  0.115513  0.116071  0.115513  0.115513   0.090293   86441600\n",
       "4  1980-12-18  0.118862  0.119420  0.118862  0.118862   0.092911   73449600"
      ]
     },
     "execution_count": 2,
     "metadata": {},
     "output_type": "execute_result"
    }
   ],
   "source": [
    "data = pd.read_csv('AAPL.csv')\n",
    "data.head()"
   ]
  },
  {
   "cell_type": "code",
   "execution_count": 3,
   "id": "77d9aea2",
   "metadata": {
    "ExecuteTime": {
     "end_time": "2022-10-06T18:14:25.353378Z",
     "start_time": "2022-10-06T18:14:25.325823Z"
    }
   },
   "outputs": [
    {
     "name": "stdout",
     "output_type": "stream",
     "text": [
      "<class 'pandas.core.frame.DataFrame'>\n",
      "RangeIndex: 10425 entries, 0 to 10424\n",
      "Data columns (total 7 columns):\n",
      " #   Column     Non-Null Count  Dtype  \n",
      "---  ------     --------------  -----  \n",
      " 0   Date       10425 non-null  object \n",
      " 1   Open       10425 non-null  float64\n",
      " 2   High       10425 non-null  float64\n",
      " 3   Low        10425 non-null  float64\n",
      " 4   Close      10425 non-null  float64\n",
      " 5   Adj Close  10425 non-null  float64\n",
      " 6   Volume     10425 non-null  int64  \n",
      "dtypes: float64(5), int64(1), object(1)\n",
      "memory usage: 570.2+ KB\n"
     ]
    }
   ],
   "source": [
    "data.info()"
   ]
  },
  {
   "cell_type": "markdown",
   "id": "1c5bc7e5",
   "metadata": {},
   "source": [
    "## To Date Time"
   ]
  },
  {
   "cell_type": "code",
   "execution_count": 4,
   "id": "47d83f37",
   "metadata": {
    "ExecuteTime": {
     "end_time": "2022-10-06T18:14:25.384477Z",
     "start_time": "2022-10-06T18:14:25.356887Z"
    }
   },
   "outputs": [
    {
     "name": "stdout",
     "output_type": "stream",
     "text": [
      "<class 'pandas.core.frame.DataFrame'>\n",
      "RangeIndex: 10425 entries, 0 to 10424\n",
      "Data columns (total 7 columns):\n",
      " #   Column     Non-Null Count  Dtype         \n",
      "---  ------     --------------  -----         \n",
      " 0   Date       10425 non-null  datetime64[ns]\n",
      " 1   Open       10425 non-null  float64       \n",
      " 2   High       10425 non-null  float64       \n",
      " 3   Low        10425 non-null  float64       \n",
      " 4   Close      10425 non-null  float64       \n",
      " 5   Adj Close  10425 non-null  float64       \n",
      " 6   Volume     10425 non-null  int64         \n",
      "dtypes: datetime64[ns](1), float64(5), int64(1)\n",
      "memory usage: 570.2 KB\n"
     ]
    }
   ],
   "source": [
    "data.Date = pd.to_datetime(data.Date)\n",
    "data.info()"
   ]
  },
  {
   "cell_type": "markdown",
   "id": "59f96b8b",
   "metadata": {
    "ExecuteTime": {
     "end_time": "2022-09-05T12:58:24.212476Z",
     "start_time": "2022-09-05T12:58:24.199476Z"
    }
   },
   "source": [
    "## Filter Date"
   ]
  },
  {
   "cell_type": "code",
   "execution_count": 5,
   "id": "a0e56d55",
   "metadata": {
    "ExecuteTime": {
     "end_time": "2022-10-06T18:14:25.399993Z",
     "start_time": "2022-10-06T18:14:25.386975Z"
    }
   },
   "outputs": [],
   "source": [
    "data = data[data.Date >= '2012-01-01'].reset_index(drop=True)"
   ]
  },
  {
   "cell_type": "markdown",
   "id": "4a52c17d",
   "metadata": {},
   "source": [
    "## Format dataframe"
   ]
  },
  {
   "cell_type": "code",
   "execution_count": 6,
   "id": "b2b05c4a",
   "metadata": {
    "ExecuteTime": {
     "end_time": "2022-10-06T18:14:25.431059Z",
     "start_time": "2022-10-06T18:14:25.405532Z"
    }
   },
   "outputs": [
    {
     "data": {
      "text/html": [
       "<div>\n",
       "<style scoped>\n",
       "    .dataframe tbody tr th:only-of-type {\n",
       "        vertical-align: middle;\n",
       "    }\n",
       "\n",
       "    .dataframe tbody tr th {\n",
       "        vertical-align: top;\n",
       "    }\n",
       "\n",
       "    .dataframe thead th {\n",
       "        text-align: right;\n",
       "    }\n",
       "</style>\n",
       "<table border=\"1\" class=\"dataframe\">\n",
       "  <thead>\n",
       "    <tr style=\"text-align: right;\">\n",
       "      <th></th>\n",
       "      <th>Open</th>\n",
       "      <th>High</th>\n",
       "      <th>Low</th>\n",
       "      <th>Close</th>\n",
       "    </tr>\n",
       "    <tr>\n",
       "      <th>Date</th>\n",
       "      <th></th>\n",
       "      <th></th>\n",
       "      <th></th>\n",
       "      <th></th>\n",
       "    </tr>\n",
       "  </thead>\n",
       "  <tbody>\n",
       "    <tr>\n",
       "      <th>2012-01-03</th>\n",
       "      <td>14.621429</td>\n",
       "      <td>14.732143</td>\n",
       "      <td>14.607143</td>\n",
       "      <td>14.686786</td>\n",
       "    </tr>\n",
       "    <tr>\n",
       "      <th>2012-01-04</th>\n",
       "      <td>14.642857</td>\n",
       "      <td>14.810000</td>\n",
       "      <td>14.617143</td>\n",
       "      <td>14.765714</td>\n",
       "    </tr>\n",
       "    <tr>\n",
       "      <th>2012-01-05</th>\n",
       "      <td>14.819643</td>\n",
       "      <td>14.948214</td>\n",
       "      <td>14.738214</td>\n",
       "      <td>14.929643</td>\n",
       "    </tr>\n",
       "    <tr>\n",
       "      <th>2012-01-06</th>\n",
       "      <td>14.991786</td>\n",
       "      <td>15.098214</td>\n",
       "      <td>14.972143</td>\n",
       "      <td>15.085714</td>\n",
       "    </tr>\n",
       "    <tr>\n",
       "      <th>2012-01-09</th>\n",
       "      <td>15.196429</td>\n",
       "      <td>15.276786</td>\n",
       "      <td>15.048214</td>\n",
       "      <td>15.061786</td>\n",
       "    </tr>\n",
       "  </tbody>\n",
       "</table>\n",
       "</div>"
      ],
      "text/plain": [
       "                 Open       High        Low      Close\n",
       "Date                                                  \n",
       "2012-01-03  14.621429  14.732143  14.607143  14.686786\n",
       "2012-01-04  14.642857  14.810000  14.617143  14.765714\n",
       "2012-01-05  14.819643  14.948214  14.738214  14.929643\n",
       "2012-01-06  14.991786  15.098214  14.972143  15.085714\n",
       "2012-01-09  15.196429  15.276786  15.048214  15.061786"
      ]
     },
     "execution_count": 6,
     "metadata": {},
     "output_type": "execute_result"
    }
   ],
   "source": [
    "data.set_index('Date', inplace=True)\n",
    "data.drop(columns=['Adj Close', 'Volume'], inplace=True)\n",
    "data.head()"
   ]
  },
  {
   "cell_type": "code",
   "execution_count": 7,
   "id": "f187e8b0",
   "metadata": {
    "ExecuteTime": {
     "end_time": "2022-10-06T18:14:25.462739Z",
     "start_time": "2022-10-06T18:14:25.433073Z"
    }
   },
   "outputs": [
    {
     "data": {
      "text/html": [
       "<div>\n",
       "<style scoped>\n",
       "    .dataframe tbody tr th:only-of-type {\n",
       "        vertical-align: middle;\n",
       "    }\n",
       "\n",
       "    .dataframe tbody tr th {\n",
       "        vertical-align: top;\n",
       "    }\n",
       "\n",
       "    .dataframe thead th {\n",
       "        text-align: right;\n",
       "    }\n",
       "</style>\n",
       "<table border=\"1\" class=\"dataframe\">\n",
       "  <thead>\n",
       "    <tr style=\"text-align: right;\">\n",
       "      <th></th>\n",
       "      <th>Open</th>\n",
       "      <th>High</th>\n",
       "      <th>Low</th>\n",
       "      <th>Close</th>\n",
       "    </tr>\n",
       "  </thead>\n",
       "  <tbody>\n",
       "    <tr>\n",
       "      <th>count</th>\n",
       "      <td>2590.000000</td>\n",
       "      <td>2590.000000</td>\n",
       "      <td>2590.000000</td>\n",
       "      <td>2590.000000</td>\n",
       "    </tr>\n",
       "    <tr>\n",
       "      <th>mean</th>\n",
       "      <td>52.383125</td>\n",
       "      <td>52.941286</td>\n",
       "      <td>51.836750</td>\n",
       "      <td>52.411922</td>\n",
       "    </tr>\n",
       "    <tr>\n",
       "      <th>std</th>\n",
       "      <td>42.979805</td>\n",
       "      <td>43.505977</td>\n",
       "      <td>42.470230</td>\n",
       "      <td>43.015285</td>\n",
       "    </tr>\n",
       "    <tr>\n",
       "      <th>min</th>\n",
       "      <td>13.856071</td>\n",
       "      <td>14.271429</td>\n",
       "      <td>13.753571</td>\n",
       "      <td>13.947500</td>\n",
       "    </tr>\n",
       "    <tr>\n",
       "      <th>25%</th>\n",
       "      <td>23.792231</td>\n",
       "      <td>24.021161</td>\n",
       "      <td>23.577233</td>\n",
       "      <td>23.783751</td>\n",
       "    </tr>\n",
       "    <tr>\n",
       "      <th>50%</th>\n",
       "      <td>34.277500</td>\n",
       "      <td>34.360001</td>\n",
       "      <td>34.072501</td>\n",
       "      <td>34.239999</td>\n",
       "    </tr>\n",
       "    <tr>\n",
       "      <th>75%</th>\n",
       "      <td>56.430625</td>\n",
       "      <td>56.998124</td>\n",
       "      <td>55.842499</td>\n",
       "      <td>56.252500</td>\n",
       "    </tr>\n",
       "    <tr>\n",
       "      <th>max</th>\n",
       "      <td>182.630005</td>\n",
       "      <td>182.940002</td>\n",
       "      <td>179.119995</td>\n",
       "      <td>182.009995</td>\n",
       "    </tr>\n",
       "  </tbody>\n",
       "</table>\n",
       "</div>"
      ],
      "text/plain": [
       "              Open         High          Low        Close\n",
       "count  2590.000000  2590.000000  2590.000000  2590.000000\n",
       "mean     52.383125    52.941286    51.836750    52.411922\n",
       "std      42.979805    43.505977    42.470230    43.015285\n",
       "min      13.856071    14.271429    13.753571    13.947500\n",
       "25%      23.792231    24.021161    23.577233    23.783751\n",
       "50%      34.277500    34.360001    34.072501    34.239999\n",
       "75%      56.430625    56.998124    55.842499    56.252500\n",
       "max     182.630005   182.940002   179.119995   182.009995"
      ]
     },
     "execution_count": 7,
     "metadata": {},
     "output_type": "execute_result"
    }
   ],
   "source": [
    "data.describe()"
   ]
  },
  {
   "cell_type": "markdown",
   "id": "8006efce",
   "metadata": {},
   "source": [
    "# Preprocess data"
   ]
  },
  {
   "cell_type": "code",
   "execution_count": 8,
   "id": "94a924d1",
   "metadata": {
    "ExecuteTime": {
     "end_time": "2022-10-06T18:14:25.477784Z",
     "start_time": "2022-10-06T18:14:25.464250Z"
    }
   },
   "outputs": [],
   "source": [
    "X = data.drop(columns=['Close'])\n",
    "y = data.Close"
   ]
  },
  {
   "cell_type": "code",
   "execution_count": 9,
   "id": "05a4d2e7",
   "metadata": {
    "ExecuteTime": {
     "end_time": "2022-10-06T18:14:25.493315Z",
     "start_time": "2022-10-06T18:14:25.481781Z"
    }
   },
   "outputs": [],
   "source": [
    "splitSize = 0.30\n",
    "split = round(len(X) * splitSize)\n",
    "X_train = X[:split]\n",
    "y_train = y[:split]\n",
    "X_test = X[split:]\n",
    "y_test = y[split:]"
   ]
  },
  {
   "cell_type": "markdown",
   "id": "91260bec",
   "metadata": {},
   "source": [
    "# Fit Model"
   ]
  },
  {
   "cell_type": "code",
   "execution_count": 10,
   "id": "91feed78",
   "metadata": {
    "ExecuteTime": {
     "end_time": "2022-10-06T18:14:25.508850Z",
     "start_time": "2022-10-06T18:14:25.495326Z"
    }
   },
   "outputs": [],
   "source": [
    "model = LinearRegression().fit(X_train, y_train)"
   ]
  },
  {
   "cell_type": "markdown",
   "id": "e25d9186",
   "metadata": {},
   "source": [
    "# Model Metrics"
   ]
  },
  {
   "cell_type": "code",
   "execution_count": 11,
   "id": "5b620d90",
   "metadata": {
    "ExecuteTime": {
     "end_time": "2022-10-06T18:14:25.524379Z",
     "start_time": "2022-10-06T18:14:25.511847Z"
    }
   },
   "outputs": [
    {
     "name": "stdout",
     "output_type": "stream",
     "text": [
      "Training R2 score 99.91 %\n"
     ]
    }
   ],
   "source": [
    "print('Training R2 score {} %'.format(round(model.score(X_train, y_train) * 100, 2)))"
   ]
  },
  {
   "cell_type": "code",
   "execution_count": 12,
   "id": "f45b8333",
   "metadata": {
    "ExecuteTime": {
     "end_time": "2022-10-06T18:14:25.539894Z",
     "start_time": "2022-10-06T18:14:25.526881Z"
    }
   },
   "outputs": [
    {
     "name": "stdout",
     "output_type": "stream",
     "text": [
      "Test R2 score 99.98 %\n"
     ]
    }
   ],
   "source": [
    "print('Test R2 score {} %'.format(round(model.score(X_test, y_test) * 100, 2)))"
   ]
  },
  {
   "cell_type": "markdown",
   "id": "04bd22d3",
   "metadata": {},
   "source": [
    "# Plot Model Predictions"
   ]
  },
  {
   "cell_type": "code",
   "execution_count": 13,
   "id": "f0a45dab",
   "metadata": {
    "ExecuteTime": {
     "end_time": "2022-10-06T18:14:25.555424Z",
     "start_time": "2022-10-06T18:14:25.541895Z"
    }
   },
   "outputs": [],
   "source": [
    "y_pred = model.predict(X_test)"
   ]
  },
  {
   "cell_type": "code",
   "execution_count": 14,
   "id": "72d9be05",
   "metadata": {
    "ExecuteTime": {
     "end_time": "2022-10-06T18:14:26.268662Z",
     "start_time": "2022-10-06T18:14:25.558425Z"
    }
   },
   "outputs": [
    {
     "data": {
      "image/png": "[encoded data removed]",
      "text/plain": [
       "<Figure size 720x720 with 1 Axes>"
      ]
     },
     "metadata": {
      "needs_background": "light"
     },
     "output_type": "display_data"
    }
   ],
   "source": [
    "plotSplit = 700\n",
    "plt.figure(figsize=(10,10))\n",
    "plt.scatter(y_test[plotSplit:], y_pred[plotSplit:], c='crimson')\n",
    "plt.yscale('log')\n",
    "plt.xscale('log')\n",
    "\n",
    "p1 = max(max(y_pred[plotSplit:]), max(y_test[plotSplit:]))\n",
    "p2 = min(min(y_pred[plotSplit:]), min(y_test[plotSplit:]))\n",
    "plt.plot([p1, p2], [p1, p2], 'b-')\n",
    "plt.xlabel('True Values', fontsize=15)\n",
    "plt.ylabel('Predictions', fontsize=15)\n",
    "plt.axis('equal')\n",
    "plt.show()"
   ]
  },
  {
   "cell_type": "markdown",
   "id": "4d4a0b63",
   "metadata": {},
   "source": [
    "# More Metrics"
   ]
  },
  {
   "cell_type": "code",
   "execution_count": 15,
   "id": "90266090",
   "metadata": {
    "ExecuteTime": {
     "end_time": "2022-10-06T18:14:26.284204Z",
     "start_time": "2022-10-06T18:14:26.271664Z"
    }
   },
   "outputs": [],
   "source": [
    "#https://www.geeksforgeeks.org/solving-linear-regression-in-python/\n",
    "#https://www.statology.org/sst-ssr-sse/\n",
    "from sklearn.metrics import mean_squared_error, r2_score"
   ]
  },
  {
   "cell_type": "markdown",
   "id": "7737a4db",
   "metadata": {},
   "source": [
    "## Error of Predictions"
   ]
  },
  {
   "cell_type": "code",
   "execution_count": 16,
   "id": "0a188b26",
   "metadata": {
    "ExecuteTime": {
     "end_time": "2022-10-06T18:14:26.314930Z",
     "start_time": "2022-10-06T18:14:26.286713Z"
    }
   },
   "outputs": [],
   "source": [
    "error = y_test - y_pred"
   ]
  },
  {
   "cell_type": "code",
   "execution_count": 26,
   "id": "4f2fc82c",
   "metadata": {
    "ExecuteTime": {
     "end_time": "2022-10-06T18:14:50.660041Z",
     "start_time": "2022-10-06T18:14:50.647516Z"
    }
   },
   "outputs": [
    {
     "data": {
      "text/plain": [
       "Date\n",
       "2015-02-05     29.985001\n",
       "2015-02-06     29.732500\n",
       "2015-02-09     29.930000\n",
       "2015-02-10     30.504999\n",
       "2015-02-11     31.219999\n",
       "                 ...    \n",
       "2022-04-11    165.750000\n",
       "2022-04-12    167.660004\n",
       "2022-04-13    170.399994\n",
       "2022-04-14    165.289993\n",
       "2022-04-18    165.070007\n",
       "Name: Close, Length: 1813, dtype: float64"
      ]
     },
     "execution_count": 26,
     "metadata": {},
     "output_type": "execute_result"
    }
   ],
   "source": [
    "y_test"
   ]
  },
  {
   "cell_type": "code",
   "execution_count": 27,
   "id": "522c3ee8",
   "metadata": {
    "ExecuteTime": {
     "end_time": "2022-10-06T18:14:59.774874Z",
     "start_time": "2022-10-06T18:14:59.768854Z"
    }
   },
   "outputs": [
    {
     "data": {
      "text/plain": [
       "array([ 29.89925006,  29.74403982,  29.88722275, ..., 170.02518034,\n",
       "       166.79099135, 165.95619046])"
      ]
     },
     "execution_count": 27,
     "metadata": {},
     "output_type": "execute_result"
    }
   ],
   "source": [
    "y_pred"
   ]
  },
  {
   "cell_type": "code",
   "execution_count": 17,
   "id": "f8820758",
   "metadata": {
    "ExecuteTime": {
     "end_time": "2022-10-06T18:14:26.330444Z",
     "start_time": "2022-10-06T18:14:26.317930Z"
    }
   },
   "outputs": [
    {
     "data": {
      "text/plain": [
       "Date\n",
       "2015-02-05    0.085751\n",
       "2015-02-06   -0.011540\n",
       "2015-02-09    0.042777\n",
       "2015-02-10    0.046171\n",
       "2015-02-11    0.127054\n",
       "                ...   \n",
       "2022-04-11   -0.742479\n",
       "2022-04-12   -0.882118\n",
       "2022-04-13    0.374814\n",
       "2022-04-14   -1.500998\n",
       "2022-04-18   -0.886183\n",
       "Name: Close, Length: 1813, dtype: float64"
      ]
     },
     "execution_count": 17,
     "metadata": {},
     "output_type": "execute_result"
    }
   ],
   "source": [
    "error"
   ]
  },
  {
   "cell_type": "markdown",
   "id": "cdf7a771",
   "metadata": {},
   "source": [
    "## Sum of Squares Error (SSE) – The sum of squared differences between predicted data points (ŷi) and observed data points (yi).\n",
    "\n",
    "    SSE = Σ(ŷi – yi)2\n"
   ]
  },
  {
   "cell_type": "code",
   "execution_count": 18,
   "id": "4f7c0988",
   "metadata": {
    "ExecuteTime": {
     "end_time": "2022-10-06T18:14:26.345991Z",
     "start_time": "2022-10-06T18:14:26.331948Z"
    }
   },
   "outputs": [
    {
     "name": "stdout",
     "output_type": "stream",
     "text": [
      "Squared error is 601.8548636090698\n"
     ]
    }
   ],
   "source": [
    "sse = np.sum(error**2)\n",
    "print('Squared error is', sse)"
   ]
  },
  {
   "cell_type": "markdown",
   "id": "866dce9a",
   "metadata": {},
   "source": [
    "## Mean Squared Error (MSE)\n",
    "One of the most common metrics used to measure the forecast accuracy of a model is MSE, which stands for mean squared error. It is calculated as:\n",
    "\n",
    "MSE = (1/n) * Σ(actual – forecast)2\n",
    "\n",
    "where:\n",
    "\n",
    "    Σ – a fancy symbol that means “sum”\n",
    "    n – sample size\n",
    "    actual – the actual data value\n",
    "    forecast – the forecasted data value\n",
    "\n",
    "The lower the value for MSE, the better a model is able to forecast values accurately.\n",
    "\n",
    "https://www.statology.org/how-to-calculate-mean-squared-error-mse-in-excel/"
   ]
  },
  {
   "cell_type": "code",
   "execution_count": 19,
   "id": "e33005b1",
   "metadata": {
    "ExecuteTime": {
     "end_time": "2022-10-06T18:14:26.361508Z",
     "start_time": "2022-10-06T18:14:26.348491Z"
    }
   },
   "outputs": [
    {
     "name": "stdout",
     "output_type": "stream",
     "text": [
      "Mean squared error is 0.3319662788797958\n"
     ]
    }
   ],
   "source": [
    "mse = sse / len(y_test)\n",
    "print('Mean squared error is', mse)"
   ]
  },
  {
   "cell_type": "markdown",
   "id": "fd164eab",
   "metadata": {},
   "source": [
    "## SKLearn Mean Squared Error"
   ]
  },
  {
   "cell_type": "code",
   "execution_count": 20,
   "id": "86cc4ed9",
   "metadata": {
    "ExecuteTime": {
     "end_time": "2022-10-06T18:14:26.376645Z",
     "start_time": "2022-10-06T18:14:26.365615Z"
    }
   },
   "outputs": [
    {
     "name": "stdout",
     "output_type": "stream",
     "text": [
      "Mean squared error is 0.3319662788797958\n"
     ]
    }
   ],
   "source": [
    "print('Mean squared error is', mean_squared_error(y_test, y_pred))"
   ]
  },
  {
   "cell_type": "markdown",
   "id": "84276c24",
   "metadata": {},
   "source": [
    "## Root Mean Square Error (RMSE)\n",
    "\n",
    "How to Interpret Root Mean Square Error (RMSE)\n",
    "\n",
    "Regression analysis is a technique we can use to understand the relationship between one or more predictor variables and a response variable. \n",
    "\n",
    "One way to assess how well a regression model fits a dataset is to calculate the root mean square error, which is a metric that tells us the average distance between the predicted values from the model and the actual values in the dataset.\n",
    "\n",
    "The lower the RMSE, the better a given model is able to “fit” a dataset.\n",
    "\n",
    "The formula to find the root mean square error, often abbreviated RMSE, is as follows:\n",
    "\n",
    "RMSE = √Σ(Pi – Oi)2 / n\n",
    "\n",
    "where:\n",
    "\n",
    "    Σ is a fancy symbol that means “sum”\n",
    "    Pi is the predicted value for the ith observation in the dataset\n",
    "    Oi is the observed value for the ith observation in the dataset\n",
    "    n is the sample size\n",
    "\n",
    "https://www.statology.org/how-to-interpret-rmse/"
   ]
  },
  {
   "cell_type": "code",
   "execution_count": 21,
   "id": "73b221b7",
   "metadata": {
    "ExecuteTime": {
     "end_time": "2022-10-06T18:14:26.392780Z",
     "start_time": "2022-10-06T18:14:26.378646Z"
    }
   },
   "outputs": [
    {
     "name": "stdout",
     "output_type": "stream",
     "text": [
      "Root mean square error is 0.58\n"
     ]
    }
   ],
   "source": [
    "rmse = np.sqrt(mse)\n",
    "print('Root mean square error is', round(rmse, 2))"
   ]
  },
  {
   "cell_type": "code",
   "execution_count": 22,
   "id": "d2b8ab60",
   "metadata": {
    "ExecuteTime": {
     "end_time": "2022-10-06T18:14:26.407812Z",
     "start_time": "2022-10-06T18:14:26.395294Z"
    }
   },
   "outputs": [
    {
     "name": "stdout",
     "output_type": "stream",
     "text": [
      "Root mean square error is 0.5761651489632081\n"
     ]
    }
   ],
   "source": [
    "print('Root mean square error is', np.sqrt(mean_squared_error(y_test, y_pred)))"
   ]
  },
  {
   "cell_type": "markdown",
   "id": "875dc106",
   "metadata": {},
   "source": [
    "## R2 Coefficient of Determination\n",
    "Linear regression is used to find a line that best “fits” a dataset.\n",
    "\n",
    "We often use three different sum of squares values to measure how well the regression line actually fits the data:\n",
    "\n",
    "1. Sum of Squares Total (SST) – The sum of squared differences between individual data points (yi) and the mean of the response variable (y).\n",
    "\n",
    "    SST = Σ(yi – y)2\n",
    "\n",
    "2. Sum of Squares Regression (SSR) – The sum of squared differences between predicted data points (ŷi) and the mean of the response variable(y).\n",
    "\n",
    "    SSR = Σ(ŷi – y)2\n",
    "\n",
    "3. Sum of Squares Error (SSE) – The sum of squared differences between predicted data points (ŷi) and observed data points (yi).\n",
    "\n",
    "    SSE = Σ(ŷi – yi)2\n",
    "\n",
    "The following relationship exists between these three measures:\n",
    "\n",
    "SST = SSR + SSE\n",
    "\n",
    "Thus, if we know two of these measures then we can use some simple algebra to calculate the third.\n",
    "SSR, SST & R-Squared\n",
    "\n",
    "R-squared, sometimes referred to as the coefficient of determination, is a measure of how well a linear regression model fits a dataset. It represents the proportion of the variance in the response variable that can be explained by the predictor variable.\n",
    "\n",
    "The value for R-squared can range from 0 to 1. A value of 0 indicates that the response variable cannot be explained by the predictor variable at all. A value of 1 indicates that the response variable can be perfectly explained without error by the predictor variable.\n",
    "\n",
    "Using SSR and SST, we can calculate R-squared as:\n",
    "R-squared = 1 - sum of squares error / sum of squares total\n",
    "\n",
    "https://www.statology.org/sst-ssr-sse/"
   ]
  },
  {
   "cell_type": "code",
   "execution_count": 23,
   "id": "effc606d",
   "metadata": {
    "ExecuteTime": {
     "end_time": "2022-10-06T18:14:26.423347Z",
     "start_time": "2022-10-06T18:14:26.410312Z"
    }
   },
   "outputs": [
    {
     "name": "stdout",
     "output_type": "stream",
     "text": [
      "R square is 0.9998347446867609\n"
     ]
    }
   ],
   "source": [
    "SSt = np.sum((y_test - np.mean(y_test))**2)\n",
    "R2 = 1 - (sse / SSt)\n",
    "print('R square is', R2)"
   ]
  },
  {
   "cell_type": "code",
   "execution_count": 24,
   "id": "4836bf4c",
   "metadata": {
    "ExecuteTime": {
     "end_time": "2022-10-06T18:14:26.438858Z",
     "start_time": "2022-10-06T18:14:26.425843Z"
    }
   },
   "outputs": [
    {
     "name": "stdout",
     "output_type": "stream",
     "text": [
      "R square is 0.9998347446867609\n"
     ]
    }
   ],
   "source": [
    "print('R square is', r2_score(y_test, y_pred))"
   ]
  },
  {
   "cell_type": "code",
   "execution_count": 25,
   "id": "a252fd63",
   "metadata": {
    "ExecuteTime": {
     "end_time": "2022-10-06T18:14:26.454386Z",
     "start_time": "2022-10-06T18:14:26.441360Z"
    }
   },
   "outputs": [
    {
     "name": "stdout",
     "output_type": "stream",
     "text": [
      "R square is 0.9998347446867609\n"
     ]
    }
   ],
   "source": [
    "print('R square is', model.score(X_test, y_test))"
   ]
  },
  {
   "cell_type": "code",
   "execution_count": 28,
   "id": "91a7e2fd",
   "metadata": {
    "ExecuteTime": {
     "end_time": "2022-10-06T18:18:36.902332Z",
     "start_time": "2022-10-06T18:18:36.895333Z"
    },
    "scrolled": true
   },
   "outputs": [
    {
     "data": {
      "text/plain": [
       "['__abstractmethods__',\n",
       " '__class__',\n",
       " '__delattr__',\n",
       " '__dict__',\n",
       " '__dir__',\n",
       " '__doc__',\n",
       " '__eq__',\n",
       " '__format__',\n",
       " '__ge__',\n",
       " '__getattribute__',\n",
       " '__getstate__',\n",
       " '__gt__',\n",
       " '__hash__',\n",
       " '__init__',\n",
       " '__init_subclass__',\n",
       " '__le__',\n",
       " '__lt__',\n",
       " '__module__',\n",
       " '__ne__',\n",
       " '__new__',\n",
       " '__reduce__',\n",
       " '__reduce_ex__',\n",
       " '__repr__',\n",
       " '__setattr__',\n",
       " '__setstate__',\n",
       " '__sizeof__',\n",
       " '__str__',\n",
       " '__subclasshook__',\n",
       " '__weakref__',\n",
       " '_abc_impl',\n",
       " '_check_feature_names',\n",
       " '_check_n_features',\n",
       " '_decision_function',\n",
       " '_estimator_type',\n",
       " '_get_param_names',\n",
       " '_get_tags',\n",
       " '_more_tags',\n",
       " '_repr_html_',\n",
       " '_repr_html_inner',\n",
       " '_repr_mimebundle_',\n",
       " '_set_intercept',\n",
       " '_validate_data',\n",
       " 'coef_',\n",
       " 'copy_X',\n",
       " 'feature_names_in_',\n",
       " 'fit',\n",
       " 'fit_intercept',\n",
       " 'get_params',\n",
       " 'intercept_',\n",
       " 'n_features_in_',\n",
       " 'n_jobs',\n",
       " 'normalize',\n",
       " 'positive',\n",
       " 'predict',\n",
       " 'rank_',\n",
       " 'score',\n",
       " 'set_params',\n",
       " 'singular_']"
      ]
     },
     "execution_count": 28,
     "metadata": {},
     "output_type": "execute_result"
    }
   ],
   "source": [
    "dir(model)"
   ]
  },
  {
   "cell_type": "code",
   "execution_count": 30,
   "id": "1d7ac12f",
   "metadata": {
    "ExecuteTime": {
     "end_time": "2022-10-06T18:19:10.922682Z",
     "start_time": "2022-10-06T18:19:10.906544Z"
    }
   },
   "outputs": [
    {
     "data": {
      "text/plain": [
       "Open    30.004999\n",
       "High    30.057501\n",
       "Low     29.812500\n",
       "Name: 2015-02-05 00:00:00, dtype: float64"
      ]
     },
     "execution_count": 30,
     "metadata": {},
     "output_type": "execute_result"
    }
   ],
   "source": [
    "X_test.iloc[0]"
   ]
  },
  {
   "cell_type": "code",
   "execution_count": 33,
   "id": "5335c8b7",
   "metadata": {
    "ExecuteTime": {
     "end_time": "2022-10-06T18:20:28.519033Z",
     "start_time": "2022-10-06T18:20:28.507374Z"
    }
   },
   "outputs": [
    {
     "data": {
      "text/plain": [
       "array([30.876126])"
      ]
     },
     "execution_count": 33,
     "metadata": {},
     "output_type": "execute_result"
    }
   ],
   "source": [
    "model.predict(np.array([31.25, 31.75, 30.25]).reshape(1,-1))"
   ]
  },
  {
   "cell_type": "code",
   "execution_count": null,
   "id": "72ddb235",
   "metadata": {},
   "outputs": [],
   "source": []
  },
  {
   "cell_type": "code",
   "execution_count": null,
   "id": "56ba00c3",
   "metadata": {},
   "outputs": [],
   "source": []
  },
  {
   "cell_type": "code",
   "execution_count": null,
   "id": "1eed82fb",
   "metadata": {},
   "outputs": [],
   "source": []
  }
 ],
 "metadata": {
  "kernelspec": {
   "display_name": "Python 3 (ipykernel)",
   "language": "python",
   "name": "python3"
  },
  "language_info": {
   "codemirror_mode": {
    "name": "ipython",
    "version": 3
   },
   "file_extension": ".py",
   "mimetype": "text/x-python",
   "name": "python",
   "nbconvert_exporter": "python",
   "pygments_lexer": "ipython3",
   "version": "3.8.12"
  },
  "toc": {
   "base_numbering": 1,
   "nav_menu": {},
   "number_sections": true,
   "sideBar": true,
   "skip_h1_title": false,
   "title_cell": "Table of Contents",
   "title_sidebar": "Contents",
   "toc_cell": false,
   "toc_position": {},
   "toc_section_display": true,
   "toc_window_display": false
  },
  "varInspector": {
   "cols": {
    "lenName": 16,
    "lenType": 16,
    "lenVar": 40
   },
   "kernels_config": {
    "python": {
     "delete_cmd_postfix": "",
     "delete_cmd_prefix": "del ",
     "library": "var_list.py",
     "varRefreshCmd": "print(var_dic_list())"
    },
    "r": {
     "delete_cmd_postfix": ") ",
     "delete_cmd_prefix": "rm(",
     "library": "var_list.r",
     "varRefreshCmd": "cat(var_dic_list()) "
    }
   },
   "types_to_exclude": [
    "module",
    "function",
    "builtin_function_or_method",
    "instance",
    "_Feature"
   ],
   "window_display": false
  }
 },
 "nbformat": 4,
 "nbformat_minor": 5
}
