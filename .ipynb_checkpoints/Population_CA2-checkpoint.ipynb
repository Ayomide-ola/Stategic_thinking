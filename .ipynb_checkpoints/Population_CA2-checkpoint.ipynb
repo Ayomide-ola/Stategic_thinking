{
 "cells": [
  {
   "cell_type": "markdown",
   "id": "242d391b",
   "metadata": {},
   "source": [
    "# Population decline analysis"
   ]
  },
  {
   "cell_type": "code",
   "execution_count": 1,
   "id": "62d0403d",
   "metadata": {},
   "outputs": [],
   "source": [
    "import numpy as np\n",
    "import pandas as pd\n",
    "import matplotlib.pyplot as plt\n",
    "import seaborn as sns"
   ]
  },
  {
   "cell_type": "code",
   "execution_count": 2,
   "id": "eb5b6daa",
   "metadata": {},
   "outputs": [
    {
     "data": {
      "text/html": [
       "<div>\n",
       "<style scoped>\n",
       "    .dataframe tbody tr th:only-of-type {\n",
       "        vertical-align: middle;\n",
       "    }\n",
       "\n",
       "    .dataframe tbody tr th {\n",
       "        vertical-align: top;\n",
       "    }\n",
       "\n",
       "    .dataframe thead th {\n",
       "        text-align: right;\n",
       "    }\n",
       "</style>\n",
       "<table border=\"1\" class=\"dataframe\">\n",
       "  <thead>\n",
       "    <tr style=\"text-align: right;\">\n",
       "      <th></th>\n",
       "      <th>Statistic Label</th>\n",
       "      <th>Quarter</th>\n",
       "      <th>State</th>\n",
       "      <th>UNIT</th>\n",
       "      <th>VALUE</th>\n",
       "    </tr>\n",
       "  </thead>\n",
       "  <tbody>\n",
       "    <tr>\n",
       "      <th>0</th>\n",
       "      <td>Marriages Registered</td>\n",
       "      <td>1960Q1</td>\n",
       "      <td>State</td>\n",
       "      <td>Number</td>\n",
       "      <td>2987.0</td>\n",
       "    </tr>\n",
       "    <tr>\n",
       "      <th>1</th>\n",
       "      <td>Marriages Registered</td>\n",
       "      <td>1960Q2</td>\n",
       "      <td>State</td>\n",
       "      <td>Number</td>\n",
       "      <td>3501.0</td>\n",
       "    </tr>\n",
       "    <tr>\n",
       "      <th>2</th>\n",
       "      <td>Marriages Registered</td>\n",
       "      <td>1960Q3</td>\n",
       "      <td>State</td>\n",
       "      <td>Number</td>\n",
       "      <td>5900.0</td>\n",
       "    </tr>\n",
       "    <tr>\n",
       "      <th>3</th>\n",
       "      <td>Marriages Registered</td>\n",
       "      <td>1960Q4</td>\n",
       "      <td>State</td>\n",
       "      <td>Number</td>\n",
       "      <td>3106.0</td>\n",
       "    </tr>\n",
       "    <tr>\n",
       "      <th>4</th>\n",
       "      <td>Marriages Registered</td>\n",
       "      <td>1961Q1</td>\n",
       "      <td>State</td>\n",
       "      <td>Number</td>\n",
       "      <td>2179.0</td>\n",
       "    </tr>\n",
       "  </tbody>\n",
       "</table>\n",
       "</div>"
      ],
      "text/plain": [
       "        Statistic Label Quarter  State    UNIT   VALUE\n",
       "0  Marriages Registered  1960Q1  State  Number  2987.0\n",
       "1  Marriages Registered  1960Q2  State  Number  3501.0\n",
       "2  Marriages Registered  1960Q3  State  Number  5900.0\n",
       "3  Marriages Registered  1960Q4  State  Number  3106.0\n",
       "4  Marriages Registered  1961Q1  State  Number  2179.0"
      ]
     },
     "execution_count": 2,
     "metadata": {},
     "output_type": "execute_result"
    }
   ],
   "source": [
    "pop= pd.read_csv(\"Total Births, Deaths and Marriages Registered.csv\")\n",
    "pop.head()"
   ]
  },
  {
   "cell_type": "code",
   "execution_count": 3,
   "id": "dc6c0ec2",
   "metadata": {},
   "outputs": [
    {
     "data": {
      "text/plain": [
       "(4554, 5)"
      ]
     },
     "execution_count": 3,
     "metadata": {},
     "output_type": "execute_result"
    }
   ],
   "source": [
    "pop.shape"
   ]
  },
  {
   "cell_type": "code",
   "execution_count": 4,
   "id": "25758c46",
   "metadata": {},
   "outputs": [
    {
     "data": {
      "text/plain": [
       "Statistic Label       0\n",
       "Quarter               0\n",
       "State                 0\n",
       "UNIT                  0\n",
       "VALUE              2728\n",
       "dtype: int64"
      ]
     },
     "execution_count": 4,
     "metadata": {},
     "output_type": "execute_result"
    }
   ],
   "source": [
    "pop.isnull().sum()"
   ]
  },
  {
   "cell_type": "code",
   "execution_count": 5,
   "id": "9ea08bd2",
   "metadata": {},
   "outputs": [
    {
     "data": {
      "text/plain": [
       "0"
      ]
     },
     "execution_count": 5,
     "metadata": {},
     "output_type": "execute_result"
    }
   ],
   "source": [
    "pop.duplicated().sum()"
   ]
  },
  {
   "cell_type": "markdown",
   "id": "ab806ca6",
   "metadata": {},
   "source": [
    "## Note rationale for seeking domain knowledge and findings\n",
    "In other to explore population declin hypothesis in ireland i consulted with domain knowledgible professionals\n",
    "Populkation of married couples in ireland does not have a direct corrolation wirth population declin or increase according to domain knowledge. Because not all married people decide to have offsprings, some adopt and some where unable to have offsprings for biological r3easons. Thus is why i decided to drip the marriage column in the popularion projevt. "
   ]
  },
  {
   "cell_type": "code",
   "execution_count": 6,
   "id": "c776707c",
   "metadata": {},
   "outputs": [],
   "source": [
    "pop['Married'] = pop['VALUE'][pop['Statistic Label']=='Marriages Registered']"
   ]
  },
  {
   "cell_type": "code",
   "execution_count": 7,
   "id": "bacb3502",
   "metadata": {},
   "outputs": [
    {
     "data": {
      "text/html": [
       "<div>\n",
       "<style scoped>\n",
       "    .dataframe tbody tr th:only-of-type {\n",
       "        vertical-align: middle;\n",
       "    }\n",
       "\n",
       "    .dataframe tbody tr th {\n",
       "        vertical-align: top;\n",
       "    }\n",
       "\n",
       "    .dataframe thead th {\n",
       "        text-align: right;\n",
       "    }\n",
       "</style>\n",
       "<table border=\"1\" class=\"dataframe\">\n",
       "  <thead>\n",
       "    <tr style=\"text-align: right;\">\n",
       "      <th></th>\n",
       "      <th>Statistic Label</th>\n",
       "      <th>Quarter</th>\n",
       "      <th>State</th>\n",
       "      <th>UNIT</th>\n",
       "      <th>VALUE</th>\n",
       "      <th>Married</th>\n",
       "    </tr>\n",
       "  </thead>\n",
       "  <tbody>\n",
       "    <tr>\n",
       "      <th>0</th>\n",
       "      <td>Marriages Registered</td>\n",
       "      <td>1960Q1</td>\n",
       "      <td>State</td>\n",
       "      <td>Number</td>\n",
       "      <td>2987.0</td>\n",
       "      <td>2987.0</td>\n",
       "    </tr>\n",
       "    <tr>\n",
       "      <th>1</th>\n",
       "      <td>Marriages Registered</td>\n",
       "      <td>1960Q2</td>\n",
       "      <td>State</td>\n",
       "      <td>Number</td>\n",
       "      <td>3501.0</td>\n",
       "      <td>3501.0</td>\n",
       "    </tr>\n",
       "    <tr>\n",
       "      <th>2</th>\n",
       "      <td>Marriages Registered</td>\n",
       "      <td>1960Q3</td>\n",
       "      <td>State</td>\n",
       "      <td>Number</td>\n",
       "      <td>5900.0</td>\n",
       "      <td>5900.0</td>\n",
       "    </tr>\n",
       "    <tr>\n",
       "      <th>3</th>\n",
       "      <td>Marriages Registered</td>\n",
       "      <td>1960Q4</td>\n",
       "      <td>State</td>\n",
       "      <td>Number</td>\n",
       "      <td>3106.0</td>\n",
       "      <td>3106.0</td>\n",
       "    </tr>\n",
       "    <tr>\n",
       "      <th>4</th>\n",
       "      <td>Marriages Registered</td>\n",
       "      <td>1961Q1</td>\n",
       "      <td>State</td>\n",
       "      <td>Number</td>\n",
       "      <td>2179.0</td>\n",
       "      <td>2179.0</td>\n",
       "    </tr>\n",
       "  </tbody>\n",
       "</table>\n",
       "</div>"
      ],
      "text/plain": [
       "        Statistic Label Quarter  State    UNIT   VALUE  Married\n",
       "0  Marriages Registered  1960Q1  State  Number  2987.0   2987.0\n",
       "1  Marriages Registered  1960Q2  State  Number  3501.0   3501.0\n",
       "2  Marriages Registered  1960Q3  State  Number  5900.0   5900.0\n",
       "3  Marriages Registered  1960Q4  State  Number  3106.0   3106.0\n",
       "4  Marriages Registered  1961Q1  State  Number  2179.0   2179.0"
      ]
     },
     "execution_count": 7,
     "metadata": {},
     "output_type": "execute_result"
    }
   ],
   "source": [
    "pop.head()"
   ]
  },
  {
   "cell_type": "code",
   "execution_count": 8,
   "id": "7a71ad4a",
   "metadata": {},
   "outputs": [
    {
     "data": {
      "text/plain": [
       "array(['Marriages Registered',\n",
       "       'Marriage Rate Registered per 1000 Estimated Population',\n",
       "       'Deaths Registered',\n",
       "       'Death Rate Registered per 1000 Estimated Population',\n",
       "       'Deaths of Infants under 1 Year Registered per 1000 Births',\n",
       "       'Births Registered',\n",
       "       'Birth Rate Registered per 1000 Estimated Population',\n",
       "       'Opposite sex marriages', 'Same sex marriages',\n",
       "       'Civil partnerships', 'Births registered that were first births',\n",
       "       'Births registered outside marriage', 'Opposite sex marriage rate',\n",
       "       'Same sex marriage rate', 'Civil partnership marriage rate',\n",
       "       'Percentage of first births registered',\n",
       "       'Percentage of births registered outside marriage',\n",
       "       'Average age of mothers giving birth'], dtype=object)"
      ]
     },
     "execution_count": 8,
     "metadata": {},
     "output_type": "execute_result"
    }
   ],
   "source": [
    "pop['Statistic Label'].unique()"
   ]
  },
  {
   "cell_type": "markdown",
   "id": "1ce33c39",
   "metadata": {},
   "source": [
    "As shown above in the pop dataframe(df), there are by deault 4 columns and 4554 rows. However, I used 'unique()' method  on Statistic Label column to see the unique observations in it, this unique values have their corresponding values. In other to explore each unique oberservation and its corresponding values, i need to extract the unique values into columns. Frthermore the values values are observaved for 4 quarters in a year. "
   ]
  },
  {
   "cell_type": "code",
   "execution_count": 9,
   "id": "8cfeb259",
   "metadata": {},
   "outputs": [],
   "source": [
    "pop['Reg_Death'] = pop['VALUE'][pop['Statistic Label']=='Deaths Registered']"
   ]
  },
  {
   "cell_type": "code",
   "execution_count": 10,
   "id": "50d1bf6d",
   "metadata": {},
   "outputs": [],
   "source": [
    "pop['Rate_Death/1000'] = pop['VALUE'][pop['Statistic Label']=='Death Rate Registered per 1000 Estimated Population']"
   ]
  },
  {
   "cell_type": "code",
   "execution_count": 11,
   "id": "e78658f0",
   "metadata": {},
   "outputs": [],
   "source": [
    "pop['Reg_inf_Death/1000'] = pop['VALUE'][pop['Statistic Label']=='Deaths of Infants under 1 Year Registered per 1000 Births']"
   ]
  },
  {
   "cell_type": "code",
   "execution_count": 12,
   "id": "cc670ce1",
   "metadata": {},
   "outputs": [],
   "source": [
    "pop['Reg_Birth'] = pop['VALUE'][pop['Statistic Label']=='Births Registered']"
   ]
  },
  {
   "cell_type": "code",
   "execution_count": 13,
   "id": "461c4b3e",
   "metadata": {},
   "outputs": [],
   "source": [
    "pop['B_outsideMarriage'] = pop['VALUE'][pop['Statistic Label']=='Percentage of births registered outside marriage']"
   ]
  },
  {
   "cell_type": "code",
   "execution_count": 14,
   "id": "710cc046",
   "metadata": {},
   "outputs": [],
   "source": [
    "pop['Mothers_age'] = pop['VALUE'][pop['Statistic Label']== 'Average age of mothers giving birth']"
   ]
  },
  {
   "cell_type": "code",
   "execution_count": 15,
   "id": "99a97645",
   "metadata": {},
   "outputs": [],
   "source": [
    "pop['CV_P_M'] = pop['VALUE'][pop['Statistic Label']== 'Civil partnership marriage rate']"
   ]
  },
  {
   "cell_type": "code",
   "execution_count": 16,
   "id": "1f679dfe",
   "metadata": {},
   "outputs": [],
   "source": [
    "pop['Rate_marriage/1000'] = pop['VALUE'][pop['Statistic Label']== 'Marriage Rate Registered per 1000 Estimated Population']"
   ]
  },
  {
   "cell_type": "code",
   "execution_count": 17,
   "id": "576a133e",
   "metadata": {},
   "outputs": [
    {
     "data": {
      "text/html": [
       "<div>\n",
       "<style scoped>\n",
       "    .dataframe tbody tr th:only-of-type {\n",
       "        vertical-align: middle;\n",
       "    }\n",
       "\n",
       "    .dataframe tbody tr th {\n",
       "        vertical-align: top;\n",
       "    }\n",
       "\n",
       "    .dataframe thead th {\n",
       "        text-align: right;\n",
       "    }\n",
       "</style>\n",
       "<table border=\"1\" class=\"dataframe\">\n",
       "  <thead>\n",
       "    <tr style=\"text-align: right;\">\n",
       "      <th></th>\n",
       "      <th>Statistic Label</th>\n",
       "      <th>Quarter</th>\n",
       "      <th>State</th>\n",
       "      <th>UNIT</th>\n",
       "      <th>VALUE</th>\n",
       "      <th>Married</th>\n",
       "      <th>Reg_Death</th>\n",
       "      <th>Rate_Death/1000</th>\n",
       "      <th>Reg_inf_Death/1000</th>\n",
       "      <th>Reg_Birth</th>\n",
       "      <th>B_outsideMarriage</th>\n",
       "      <th>Mothers_age</th>\n",
       "      <th>CV_P_M</th>\n",
       "      <th>Rate_marriage/1000</th>\n",
       "    </tr>\n",
       "  </thead>\n",
       "  <tbody>\n",
       "    <tr>\n",
       "      <th>0</th>\n",
       "      <td>Marriages Registered</td>\n",
       "      <td>1960Q1</td>\n",
       "      <td>State</td>\n",
       "      <td>Number</td>\n",
       "      <td>2987.0</td>\n",
       "      <td>2987.0</td>\n",
       "      <td>NaN</td>\n",
       "      <td>NaN</td>\n",
       "      <td>NaN</td>\n",
       "      <td>NaN</td>\n",
       "      <td>NaN</td>\n",
       "      <td>NaN</td>\n",
       "      <td>NaN</td>\n",
       "      <td>NaN</td>\n",
       "    </tr>\n",
       "    <tr>\n",
       "      <th>1</th>\n",
       "      <td>Marriages Registered</td>\n",
       "      <td>1960Q2</td>\n",
       "      <td>State</td>\n",
       "      <td>Number</td>\n",
       "      <td>3501.0</td>\n",
       "      <td>3501.0</td>\n",
       "      <td>NaN</td>\n",
       "      <td>NaN</td>\n",
       "      <td>NaN</td>\n",
       "      <td>NaN</td>\n",
       "      <td>NaN</td>\n",
       "      <td>NaN</td>\n",
       "      <td>NaN</td>\n",
       "      <td>NaN</td>\n",
       "    </tr>\n",
       "    <tr>\n",
       "      <th>2</th>\n",
       "      <td>Marriages Registered</td>\n",
       "      <td>1960Q3</td>\n",
       "      <td>State</td>\n",
       "      <td>Number</td>\n",
       "      <td>5900.0</td>\n",
       "      <td>5900.0</td>\n",
       "      <td>NaN</td>\n",
       "      <td>NaN</td>\n",
       "      <td>NaN</td>\n",
       "      <td>NaN</td>\n",
       "      <td>NaN</td>\n",
       "      <td>NaN</td>\n",
       "      <td>NaN</td>\n",
       "      <td>NaN</td>\n",
       "    </tr>\n",
       "    <tr>\n",
       "      <th>3</th>\n",
       "      <td>Marriages Registered</td>\n",
       "      <td>1960Q4</td>\n",
       "      <td>State</td>\n",
       "      <td>Number</td>\n",
       "      <td>3106.0</td>\n",
       "      <td>3106.0</td>\n",
       "      <td>NaN</td>\n",
       "      <td>NaN</td>\n",
       "      <td>NaN</td>\n",
       "      <td>NaN</td>\n",
       "      <td>NaN</td>\n",
       "      <td>NaN</td>\n",
       "      <td>NaN</td>\n",
       "      <td>NaN</td>\n",
       "    </tr>\n",
       "    <tr>\n",
       "      <th>4</th>\n",
       "      <td>Marriages Registered</td>\n",
       "      <td>1961Q1</td>\n",
       "      <td>State</td>\n",
       "      <td>Number</td>\n",
       "      <td>2179.0</td>\n",
       "      <td>2179.0</td>\n",
       "      <td>NaN</td>\n",
       "      <td>NaN</td>\n",
       "      <td>NaN</td>\n",
       "      <td>NaN</td>\n",
       "      <td>NaN</td>\n",
       "      <td>NaN</td>\n",
       "      <td>NaN</td>\n",
       "      <td>NaN</td>\n",
       "    </tr>\n",
       "  </tbody>\n",
       "</table>\n",
       "</div>"
      ],
      "text/plain": [
       "        Statistic Label Quarter  State    UNIT   VALUE  Married  Reg_Death  \\\n",
       "0  Marriages Registered  1960Q1  State  Number  2987.0   2987.0        NaN   \n",
       "1  Marriages Registered  1960Q2  State  Number  3501.0   3501.0        NaN   \n",
       "2  Marriages Registered  1960Q3  State  Number  5900.0   5900.0        NaN   \n",
       "3  Marriages Registered  1960Q4  State  Number  3106.0   3106.0        NaN   \n",
       "4  Marriages Registered  1961Q1  State  Number  2179.0   2179.0        NaN   \n",
       "\n",
       "   Rate_Death/1000  Reg_inf_Death/1000  Reg_Birth  B_outsideMarriage  \\\n",
       "0              NaN                 NaN        NaN                NaN   \n",
       "1              NaN                 NaN        NaN                NaN   \n",
       "2              NaN                 NaN        NaN                NaN   \n",
       "3              NaN                 NaN        NaN                NaN   \n",
       "4              NaN                 NaN        NaN                NaN   \n",
       "\n",
       "   Mothers_age  CV_P_M  Rate_marriage/1000  \n",
       "0          NaN     NaN                 NaN  \n",
       "1          NaN     NaN                 NaN  \n",
       "2          NaN     NaN                 NaN  \n",
       "3          NaN     NaN                 NaN  \n",
       "4          NaN     NaN                 NaN  "
      ]
     },
     "execution_count": 17,
     "metadata": {},
     "output_type": "execute_result"
    }
   ],
   "source": [
    "pop.head()"
   ]
  },
  {
   "cell_type": "code",
   "execution_count": 18,
   "id": "e2f38c1b",
   "metadata": {},
   "outputs": [
    {
     "data": {
      "text/html": [
       "<div>\n",
       "<style scoped>\n",
       "    .dataframe tbody tr th:only-of-type {\n",
       "        vertical-align: middle;\n",
       "    }\n",
       "\n",
       "    .dataframe tbody tr th {\n",
       "        vertical-align: top;\n",
       "    }\n",
       "\n",
       "    .dataframe thead th {\n",
       "        text-align: right;\n",
       "    }\n",
       "</style>\n",
       "<table border=\"1\" class=\"dataframe\">\n",
       "  <thead>\n",
       "    <tr style=\"text-align: right;\">\n",
       "      <th></th>\n",
       "      <th>Statistic Label</th>\n",
       "      <th>Quarter</th>\n",
       "      <th>State</th>\n",
       "      <th>UNIT</th>\n",
       "      <th>VALUE</th>\n",
       "      <th>Married</th>\n",
       "      <th>Reg_Death</th>\n",
       "      <th>Rate_Death/1000</th>\n",
       "      <th>Reg_inf_Death/1000</th>\n",
       "      <th>Reg_Birth</th>\n",
       "      <th>B_outsideMarriage</th>\n",
       "      <th>Mothers_age</th>\n",
       "      <th>CV_P_M</th>\n",
       "      <th>Rate_marriage/1000</th>\n",
       "    </tr>\n",
       "  </thead>\n",
       "  <tbody>\n",
       "    <tr>\n",
       "      <th>4549</th>\n",
       "      <td>Average age of mothers giving birth</td>\n",
       "      <td>2022Q1</td>\n",
       "      <td>State</td>\n",
       "      <td>Number</td>\n",
       "      <td>33.3</td>\n",
       "      <td>NaN</td>\n",
       "      <td>NaN</td>\n",
       "      <td>NaN</td>\n",
       "      <td>NaN</td>\n",
       "      <td>NaN</td>\n",
       "      <td>NaN</td>\n",
       "      <td>33.3</td>\n",
       "      <td>NaN</td>\n",
       "      <td>NaN</td>\n",
       "    </tr>\n",
       "    <tr>\n",
       "      <th>4550</th>\n",
       "      <td>Average age of mothers giving birth</td>\n",
       "      <td>2022Q2</td>\n",
       "      <td>State</td>\n",
       "      <td>Number</td>\n",
       "      <td>33.2</td>\n",
       "      <td>NaN</td>\n",
       "      <td>NaN</td>\n",
       "      <td>NaN</td>\n",
       "      <td>NaN</td>\n",
       "      <td>NaN</td>\n",
       "      <td>NaN</td>\n",
       "      <td>33.2</td>\n",
       "      <td>NaN</td>\n",
       "      <td>NaN</td>\n",
       "    </tr>\n",
       "    <tr>\n",
       "      <th>4551</th>\n",
       "      <td>Average age of mothers giving birth</td>\n",
       "      <td>2022Q3</td>\n",
       "      <td>State</td>\n",
       "      <td>Number</td>\n",
       "      <td>33.2</td>\n",
       "      <td>NaN</td>\n",
       "      <td>NaN</td>\n",
       "      <td>NaN</td>\n",
       "      <td>NaN</td>\n",
       "      <td>NaN</td>\n",
       "      <td>NaN</td>\n",
       "      <td>33.2</td>\n",
       "      <td>NaN</td>\n",
       "      <td>NaN</td>\n",
       "    </tr>\n",
       "    <tr>\n",
       "      <th>4552</th>\n",
       "      <td>Average age of mothers giving birth</td>\n",
       "      <td>2022Q4</td>\n",
       "      <td>State</td>\n",
       "      <td>Number</td>\n",
       "      <td>33.2</td>\n",
       "      <td>NaN</td>\n",
       "      <td>NaN</td>\n",
       "      <td>NaN</td>\n",
       "      <td>NaN</td>\n",
       "      <td>NaN</td>\n",
       "      <td>NaN</td>\n",
       "      <td>33.2</td>\n",
       "      <td>NaN</td>\n",
       "      <td>NaN</td>\n",
       "    </tr>\n",
       "    <tr>\n",
       "      <th>4553</th>\n",
       "      <td>Average age of mothers giving birth</td>\n",
       "      <td>2023Q1</td>\n",
       "      <td>State</td>\n",
       "      <td>Number</td>\n",
       "      <td>33.2</td>\n",
       "      <td>NaN</td>\n",
       "      <td>NaN</td>\n",
       "      <td>NaN</td>\n",
       "      <td>NaN</td>\n",
       "      <td>NaN</td>\n",
       "      <td>NaN</td>\n",
       "      <td>33.2</td>\n",
       "      <td>NaN</td>\n",
       "      <td>NaN</td>\n",
       "    </tr>\n",
       "  </tbody>\n",
       "</table>\n",
       "</div>"
      ],
      "text/plain": [
       "                          Statistic Label Quarter  State    UNIT  VALUE  \\\n",
       "4549  Average age of mothers giving birth  2022Q1  State  Number   33.3   \n",
       "4550  Average age of mothers giving birth  2022Q2  State  Number   33.2   \n",
       "4551  Average age of mothers giving birth  2022Q3  State  Number   33.2   \n",
       "4552  Average age of mothers giving birth  2022Q4  State  Number   33.2   \n",
       "4553  Average age of mothers giving birth  2023Q1  State  Number   33.2   \n",
       "\n",
       "      Married  Reg_Death  Rate_Death/1000  Reg_inf_Death/1000  Reg_Birth  \\\n",
       "4549      NaN        NaN              NaN                 NaN        NaN   \n",
       "4550      NaN        NaN              NaN                 NaN        NaN   \n",
       "4551      NaN        NaN              NaN                 NaN        NaN   \n",
       "4552      NaN        NaN              NaN                 NaN        NaN   \n",
       "4553      NaN        NaN              NaN                 NaN        NaN   \n",
       "\n",
       "      B_outsideMarriage  Mothers_age  CV_P_M  Rate_marriage/1000  \n",
       "4549                NaN         33.3     NaN                 NaN  \n",
       "4550                NaN         33.2     NaN                 NaN  \n",
       "4551                NaN         33.2     NaN                 NaN  \n",
       "4552                NaN         33.2     NaN                 NaN  \n",
       "4553                NaN         33.2     NaN                 NaN  "
      ]
     },
     "execution_count": 18,
     "metadata": {},
     "output_type": "execute_result"
    }
   ],
   "source": [
    "pop.tail()"
   ]
  },
  {
   "cell_type": "code",
   "execution_count": 19,
   "id": "1772bffd",
   "metadata": {},
   "outputs": [
    {
     "data": {
      "text/plain": [
       "array(['1960Q1', '1960Q2', '1960Q3', '1960Q4', '1961Q1', '1961Q2',\n",
       "       '1961Q3', '1961Q4', '1962Q1', '1962Q2', '1962Q3', '1962Q4',\n",
       "       '1963Q1', '1963Q2', '1963Q3', '1963Q4', '1964Q1', '1964Q2',\n",
       "       '1964Q3', '1964Q4', '1965Q1', '1965Q2', '1965Q3', '1965Q4',\n",
       "       '1966Q1', '1966Q2', '1966Q3', '1966Q4', '1967Q1', '1967Q2',\n",
       "       '1967Q3', '1967Q4', '1968Q1', '1968Q2', '1968Q3', '1968Q4',\n",
       "       '1969Q1', '1969Q2', '1969Q3', '1969Q4', '1970Q1', '1970Q2',\n",
       "       '1970Q3', '1970Q4', '1971Q1', '1971Q2', '1971Q3', '1971Q4',\n",
       "       '1972Q1', '1972Q2', '1972Q3', '1972Q4', '1973Q1', '1973Q2',\n",
       "       '1973Q3', '1973Q4', '1974Q1', '1974Q2', '1974Q3', '1974Q4',\n",
       "       '1975Q1', '1975Q2', '1975Q3', '1975Q4', '1976Q1', '1976Q2',\n",
       "       '1976Q3', '1976Q4', '1977Q1', '1977Q2', '1977Q3', '1977Q4',\n",
       "       '1978Q1', '1978Q2', '1978Q3', '1978Q4', '1979Q1', '1979Q2',\n",
       "       '1979Q3', '1979Q4', '1980Q1', '1980Q2', '1980Q3', '1980Q4',\n",
       "       '1981Q1', '1981Q2', '1981Q3', '1981Q4', '1982Q1', '1982Q2',\n",
       "       '1982Q3', '1982Q4', '1983Q1', '1983Q2', '1983Q3', '1983Q4',\n",
       "       '1984Q1', '1984Q2', '1984Q3', '1984Q4', '1985Q1', '1985Q2',\n",
       "       '1985Q3', '1985Q4', '1986Q1', '1986Q2', '1986Q3', '1986Q4',\n",
       "       '1987Q1', '1987Q2', '1987Q3', '1987Q4', '1988Q1', '1988Q2',\n",
       "       '1988Q3', '1988Q4', '1989Q1', '1989Q2', '1989Q3', '1989Q4',\n",
       "       '1990Q1', '1990Q2', '1990Q3', '1990Q4', '1991Q1', '1991Q2',\n",
       "       '1991Q3', '1991Q4', '1992Q1', '1992Q2', '1992Q3', '1992Q4',\n",
       "       '1993Q1', '1993Q2', '1993Q3', '1993Q4', '1994Q1', '1994Q2',\n",
       "       '1994Q3', '1994Q4', '1995Q1', '1995Q2', '1995Q3', '1995Q4',\n",
       "       '1996Q1', '1996Q2', '1996Q3', '1996Q4', '1997Q1', '1997Q2',\n",
       "       '1997Q3', '1997Q4', '1998Q1', '1998Q2', '1998Q3', '1998Q4',\n",
       "       '1999Q1', '1999Q2', '1999Q3', '1999Q4', '2000Q1', '2000Q2',\n",
       "       '2000Q3', '2000Q4', '2001Q1', '2001Q2', '2001Q3', '2001Q4',\n",
       "       '2002Q1', '2002Q2', '2002Q3', '2002Q4', '2003Q1', '2003Q2',\n",
       "       '2003Q3', '2003Q4', '2004Q1', '2004Q2', '2004Q3', '2004Q4',\n",
       "       '2005Q1', '2005Q2', '2005Q3', '2005Q4', '2006Q1', '2006Q2',\n",
       "       '2006Q3', '2006Q4', '2007Q1', '2007Q2', '2007Q3', '2007Q4',\n",
       "       '2008Q1', '2008Q2', '2008Q3', '2008Q4', '2009Q1', '2009Q2',\n",
       "       '2009Q3', '2009Q4', '2010Q1', '2010Q2', '2010Q3', '2010Q4',\n",
       "       '2011Q1', '2011Q2', '2011Q3', '2011Q4', '2012Q1', '2012Q2',\n",
       "       '2012Q3', '2012Q4', '2013Q1', '2013Q2', '2013Q3', '2013Q4',\n",
       "       '2014Q1', '2014Q2', '2014Q3', '2014Q4', '2015Q1', '2015Q2',\n",
       "       '2015Q3', '2015Q4', '2016Q1', '2016Q2', '2016Q3', '2016Q4',\n",
       "       '2017Q1', '2017Q2', '2017Q3', '2017Q4', '2018Q1', '2018Q2',\n",
       "       '2018Q3', '2018Q4', '2019Q1', '2019Q2', '2019Q3', '2019Q4',\n",
       "       '2020Q1', '2020Q2', '2020Q3', '2020Q4', '2021Q1', '2021Q2',\n",
       "       '2021Q3', '2021Q4', '2022Q1', '2022Q2', '2022Q3', '2022Q4',\n",
       "       '2023Q1'], dtype=object)"
      ]
     },
     "execution_count": 19,
     "metadata": {},
     "output_type": "execute_result"
    }
   ],
   "source": [
    "pop['Quarter'].unique()"
   ]
  },
  {
   "cell_type": "code",
   "execution_count": 20,
   "id": "8f78a4a8",
   "metadata": {},
   "outputs": [
    {
     "data": {
      "text/plain": [
       "(4554,)"
      ]
     },
     "execution_count": 20,
     "metadata": {},
     "output_type": "execute_result"
    }
   ],
   "source": [
    "pop['Quarter'].shape"
   ]
  },
  {
   "cell_type": "code",
   "execution_count": 21,
   "id": "db2da811",
   "metadata": {},
   "outputs": [
    {
     "data": {
      "text/plain": [
       "4301"
      ]
     },
     "execution_count": 21,
     "metadata": {},
     "output_type": "execute_result"
    }
   ],
   "source": [
    "pop['Reg_Death'].isnull().sum()"
   ]
  },
  {
   "cell_type": "code",
   "execution_count": 22,
   "id": "15041612",
   "metadata": {},
   "outputs": [
    {
     "data": {
      "text/plain": [
       "(4554,)"
      ]
     },
     "execution_count": 22,
     "metadata": {},
     "output_type": "execute_result"
    }
   ],
   "source": [
    "pop['Reg_Death'].shape"
   ]
  },
  {
   "cell_type": "code",
   "execution_count": 23,
   "id": "457904f9",
   "metadata": {},
   "outputs": [
    {
     "data": {
      "text/plain": [
       "Statistic Label          0\n",
       "Quarter                  0\n",
       "State                    0\n",
       "UNIT                     0\n",
       "VALUE                 2728\n",
       "Married               4301\n",
       "Reg_Death             4301\n",
       "Rate_Death/1000       4301\n",
       "Reg_inf_Death/1000    4301\n",
       "Reg_Birth             4301\n",
       "B_outsideMarriage     4549\n",
       "Mothers_age           4549\n",
       "CV_P_M                4549\n",
       "Rate_marriage/1000    4301\n",
       "dtype: int64"
      ]
     },
     "execution_count": 23,
     "metadata": {},
     "output_type": "execute_result"
    }
   ],
   "source": [
    "pop.isnull().sum()"
   ]
  },
  {
   "cell_type": "markdown",
   "id": "7b951316",
   "metadata": {},
   "source": [
    "As shown above, though we have been able to extract the values of unique o=bservations in the statistic label, we have created understandablly enomous mising values. This is because where there are no observations, pandas will authomatically repkace the rows as missing in other to balance with the shape of the data. "
   ]
  },
  {
   "cell_type": "markdown",
   "id": "0f5cc3ca",
   "metadata": {},
   "source": [
    "## Percentage of null values\n",
    "This operation is used to calculate the proportion of missing values with values that are recorded in other to handle the the null values."
   ]
  },
  {
   "cell_type": "code",
   "execution_count": 24,
   "id": "1a662f21",
   "metadata": {},
   "outputs": [
    {
     "data": {
      "text/plain": [
       "Statistic Label        0.000000\n",
       "Quarter                0.000000\n",
       "State                  0.000000\n",
       "UNIT                   0.000000\n",
       "VALUE                 59.903382\n",
       "Married               94.444444\n",
       "Reg_Death             94.444444\n",
       "Rate_Death/1000       94.444444\n",
       "Reg_inf_Death/1000    94.444444\n",
       "Reg_Birth             94.444444\n",
       "B_outsideMarriage     99.890206\n",
       "Mothers_age           99.890206\n",
       "CV_P_M                99.890206\n",
       "Rate_marriage/1000    94.444444\n",
       "dtype: float64"
      ]
     },
     "execution_count": 24,
     "metadata": {},
     "output_type": "execute_result"
    }
   ],
   "source": [
    "pop.isnull().mean()*100 # Porcentage of missing data"
   ]
  },
  {
   "cell_type": "markdown",
   "id": "bd3b0b17",
   "metadata": {},
   "source": [
    "## Data Cleaning\n",
    "Since i have extracted the needed lable from the 'statistical lable' column, going forward i will drop the 'statistical label' column. "
   ]
  },
  {
   "cell_type": "code",
   "execution_count": 25,
   "id": "27b00717",
   "metadata": {},
   "outputs": [],
   "source": [
    "pop.drop(['Statistic Label'], axis=1, inplace=True)"
   ]
  },
  {
   "cell_type": "code",
   "execution_count": 26,
   "id": "5a3489ab",
   "metadata": {},
   "outputs": [
    {
     "data": {
      "text/html": [
       "<div>\n",
       "<style scoped>\n",
       "    .dataframe tbody tr th:only-of-type {\n",
       "        vertical-align: middle;\n",
       "    }\n",
       "\n",
       "    .dataframe tbody tr th {\n",
       "        vertical-align: top;\n",
       "    }\n",
       "\n",
       "    .dataframe thead th {\n",
       "        text-align: right;\n",
       "    }\n",
       "</style>\n",
       "<table border=\"1\" class=\"dataframe\">\n",
       "  <thead>\n",
       "    <tr style=\"text-align: right;\">\n",
       "      <th></th>\n",
       "      <th>Quarter</th>\n",
       "      <th>State</th>\n",
       "      <th>UNIT</th>\n",
       "      <th>VALUE</th>\n",
       "      <th>Married</th>\n",
       "      <th>Reg_Death</th>\n",
       "      <th>Rate_Death/1000</th>\n",
       "      <th>Reg_inf_Death/1000</th>\n",
       "      <th>Reg_Birth</th>\n",
       "      <th>B_outsideMarriage</th>\n",
       "      <th>Mothers_age</th>\n",
       "      <th>CV_P_M</th>\n",
       "      <th>Rate_marriage/1000</th>\n",
       "    </tr>\n",
       "  </thead>\n",
       "  <tbody>\n",
       "    <tr>\n",
       "      <th>0</th>\n",
       "      <td>1960Q1</td>\n",
       "      <td>State</td>\n",
       "      <td>Number</td>\n",
       "      <td>2987.0</td>\n",
       "      <td>2987.0</td>\n",
       "      <td>NaN</td>\n",
       "      <td>NaN</td>\n",
       "      <td>NaN</td>\n",
       "      <td>NaN</td>\n",
       "      <td>NaN</td>\n",
       "      <td>NaN</td>\n",
       "      <td>NaN</td>\n",
       "      <td>NaN</td>\n",
       "    </tr>\n",
       "    <tr>\n",
       "      <th>1</th>\n",
       "      <td>1960Q2</td>\n",
       "      <td>State</td>\n",
       "      <td>Number</td>\n",
       "      <td>3501.0</td>\n",
       "      <td>3501.0</td>\n",
       "      <td>NaN</td>\n",
       "      <td>NaN</td>\n",
       "      <td>NaN</td>\n",
       "      <td>NaN</td>\n",
       "      <td>NaN</td>\n",
       "      <td>NaN</td>\n",
       "      <td>NaN</td>\n",
       "      <td>NaN</td>\n",
       "    </tr>\n",
       "    <tr>\n",
       "      <th>2</th>\n",
       "      <td>1960Q3</td>\n",
       "      <td>State</td>\n",
       "      <td>Number</td>\n",
       "      <td>5900.0</td>\n",
       "      <td>5900.0</td>\n",
       "      <td>NaN</td>\n",
       "      <td>NaN</td>\n",
       "      <td>NaN</td>\n",
       "      <td>NaN</td>\n",
       "      <td>NaN</td>\n",
       "      <td>NaN</td>\n",
       "      <td>NaN</td>\n",
       "      <td>NaN</td>\n",
       "    </tr>\n",
       "    <tr>\n",
       "      <th>3</th>\n",
       "      <td>1960Q4</td>\n",
       "      <td>State</td>\n",
       "      <td>Number</td>\n",
       "      <td>3106.0</td>\n",
       "      <td>3106.0</td>\n",
       "      <td>NaN</td>\n",
       "      <td>NaN</td>\n",
       "      <td>NaN</td>\n",
       "      <td>NaN</td>\n",
       "      <td>NaN</td>\n",
       "      <td>NaN</td>\n",
       "      <td>NaN</td>\n",
       "      <td>NaN</td>\n",
       "    </tr>\n",
       "    <tr>\n",
       "      <th>4</th>\n",
       "      <td>1961Q1</td>\n",
       "      <td>State</td>\n",
       "      <td>Number</td>\n",
       "      <td>2179.0</td>\n",
       "      <td>2179.0</td>\n",
       "      <td>NaN</td>\n",
       "      <td>NaN</td>\n",
       "      <td>NaN</td>\n",
       "      <td>NaN</td>\n",
       "      <td>NaN</td>\n",
       "      <td>NaN</td>\n",
       "      <td>NaN</td>\n",
       "      <td>NaN</td>\n",
       "    </tr>\n",
       "  </tbody>\n",
       "</table>\n",
       "</div>"
      ],
      "text/plain": [
       "  Quarter  State    UNIT   VALUE  Married  Reg_Death  Rate_Death/1000  \\\n",
       "0  1960Q1  State  Number  2987.0   2987.0        NaN              NaN   \n",
       "1  1960Q2  State  Number  3501.0   3501.0        NaN              NaN   \n",
       "2  1960Q3  State  Number  5900.0   5900.0        NaN              NaN   \n",
       "3  1960Q4  State  Number  3106.0   3106.0        NaN              NaN   \n",
       "4  1961Q1  State  Number  2179.0   2179.0        NaN              NaN   \n",
       "\n",
       "   Reg_inf_Death/1000  Reg_Birth  B_outsideMarriage  Mothers_age  CV_P_M  \\\n",
       "0                 NaN        NaN                NaN          NaN     NaN   \n",
       "1                 NaN        NaN                NaN          NaN     NaN   \n",
       "2                 NaN        NaN                NaN          NaN     NaN   \n",
       "3                 NaN        NaN                NaN          NaN     NaN   \n",
       "4                 NaN        NaN                NaN          NaN     NaN   \n",
       "\n",
       "   Rate_marriage/1000  \n",
       "0                 NaN  \n",
       "1                 NaN  \n",
       "2                 NaN  \n",
       "3                 NaN  \n",
       "4                 NaN  "
      ]
     },
     "execution_count": 26,
     "metadata": {},
     "output_type": "execute_result"
    }
   ],
   "source": [
    "pop.head()"
   ]
  },
  {
   "cell_type": "code",
   "execution_count": 27,
   "id": "5ac566cb",
   "metadata": {},
   "outputs": [
    {
     "data": {
      "text/plain": [
       "array(['Number', '%'], dtype=object)"
      ]
     },
     "execution_count": 27,
     "metadata": {},
     "output_type": "execute_result"
    }
   ],
   "source": [
    "pop['UNIT'].unique()"
   ]
  },
  {
   "cell_type": "code",
   "execution_count": 28,
   "id": "90718bd1",
   "metadata": {},
   "outputs": [
    {
     "data": {
      "text/plain": [
       "array(['State'], dtype=object)"
      ]
     },
     "execution_count": 28,
     "metadata": {},
     "output_type": "execute_result"
    }
   ],
   "source": [
    "pop['State'].unique()"
   ]
  },
  {
   "cell_type": "code",
   "execution_count": 29,
   "id": "b5960fcc",
   "metadata": {},
   "outputs": [],
   "source": [
    "pop.drop(['State'], axis=1, inplace=True)"
   ]
  },
  {
   "cell_type": "code",
   "execution_count": 30,
   "id": "4ccc28df",
   "metadata": {},
   "outputs": [
    {
     "data": {
      "text/html": [
       "<div>\n",
       "<style scoped>\n",
       "    .dataframe tbody tr th:only-of-type {\n",
       "        vertical-align: middle;\n",
       "    }\n",
       "\n",
       "    .dataframe tbody tr th {\n",
       "        vertical-align: top;\n",
       "    }\n",
       "\n",
       "    .dataframe thead th {\n",
       "        text-align: right;\n",
       "    }\n",
       "</style>\n",
       "<table border=\"1\" class=\"dataframe\">\n",
       "  <thead>\n",
       "    <tr style=\"text-align: right;\">\n",
       "      <th></th>\n",
       "      <th>Quarter</th>\n",
       "      <th>UNIT</th>\n",
       "      <th>VALUE</th>\n",
       "      <th>Married</th>\n",
       "      <th>Reg_Death</th>\n",
       "      <th>Rate_Death/1000</th>\n",
       "      <th>Reg_inf_Death/1000</th>\n",
       "      <th>Reg_Birth</th>\n",
       "      <th>B_outsideMarriage</th>\n",
       "      <th>Mothers_age</th>\n",
       "      <th>CV_P_M</th>\n",
       "      <th>Rate_marriage/1000</th>\n",
       "    </tr>\n",
       "  </thead>\n",
       "  <tbody>\n",
       "    <tr>\n",
       "      <th>0</th>\n",
       "      <td>1960Q1</td>\n",
       "      <td>Number</td>\n",
       "      <td>2987.0</td>\n",
       "      <td>2987.0</td>\n",
       "      <td>NaN</td>\n",
       "      <td>NaN</td>\n",
       "      <td>NaN</td>\n",
       "      <td>NaN</td>\n",
       "      <td>NaN</td>\n",
       "      <td>NaN</td>\n",
       "      <td>NaN</td>\n",
       "      <td>NaN</td>\n",
       "    </tr>\n",
       "    <tr>\n",
       "      <th>1</th>\n",
       "      <td>1960Q2</td>\n",
       "      <td>Number</td>\n",
       "      <td>3501.0</td>\n",
       "      <td>3501.0</td>\n",
       "      <td>NaN</td>\n",
       "      <td>NaN</td>\n",
       "      <td>NaN</td>\n",
       "      <td>NaN</td>\n",
       "      <td>NaN</td>\n",
       "      <td>NaN</td>\n",
       "      <td>NaN</td>\n",
       "      <td>NaN</td>\n",
       "    </tr>\n",
       "    <tr>\n",
       "      <th>2</th>\n",
       "      <td>1960Q3</td>\n",
       "      <td>Number</td>\n",
       "      <td>5900.0</td>\n",
       "      <td>5900.0</td>\n",
       "      <td>NaN</td>\n",
       "      <td>NaN</td>\n",
       "      <td>NaN</td>\n",
       "      <td>NaN</td>\n",
       "      <td>NaN</td>\n",
       "      <td>NaN</td>\n",
       "      <td>NaN</td>\n",
       "      <td>NaN</td>\n",
       "    </tr>\n",
       "    <tr>\n",
       "      <th>3</th>\n",
       "      <td>1960Q4</td>\n",
       "      <td>Number</td>\n",
       "      <td>3106.0</td>\n",
       "      <td>3106.0</td>\n",
       "      <td>NaN</td>\n",
       "      <td>NaN</td>\n",
       "      <td>NaN</td>\n",
       "      <td>NaN</td>\n",
       "      <td>NaN</td>\n",
       "      <td>NaN</td>\n",
       "      <td>NaN</td>\n",
       "      <td>NaN</td>\n",
       "    </tr>\n",
       "    <tr>\n",
       "      <th>4</th>\n",
       "      <td>1961Q1</td>\n",
       "      <td>Number</td>\n",
       "      <td>2179.0</td>\n",
       "      <td>2179.0</td>\n",
       "      <td>NaN</td>\n",
       "      <td>NaN</td>\n",
       "      <td>NaN</td>\n",
       "      <td>NaN</td>\n",
       "      <td>NaN</td>\n",
       "      <td>NaN</td>\n",
       "      <td>NaN</td>\n",
       "      <td>NaN</td>\n",
       "    </tr>\n",
       "  </tbody>\n",
       "</table>\n",
       "</div>"
      ],
      "text/plain": [
       "  Quarter    UNIT   VALUE  Married  Reg_Death  Rate_Death/1000  \\\n",
       "0  1960Q1  Number  2987.0   2987.0        NaN              NaN   \n",
       "1  1960Q2  Number  3501.0   3501.0        NaN              NaN   \n",
       "2  1960Q3  Number  5900.0   5900.0        NaN              NaN   \n",
       "3  1960Q4  Number  3106.0   3106.0        NaN              NaN   \n",
       "4  1961Q1  Number  2179.0   2179.0        NaN              NaN   \n",
       "\n",
       "   Reg_inf_Death/1000  Reg_Birth  B_outsideMarriage  Mothers_age  CV_P_M  \\\n",
       "0                 NaN        NaN                NaN          NaN     NaN   \n",
       "1                 NaN        NaN                NaN          NaN     NaN   \n",
       "2                 NaN        NaN                NaN          NaN     NaN   \n",
       "3                 NaN        NaN                NaN          NaN     NaN   \n",
       "4                 NaN        NaN                NaN          NaN     NaN   \n",
       "\n",
       "   Rate_marriage/1000  \n",
       "0                 NaN  \n",
       "1                 NaN  \n",
       "2                 NaN  \n",
       "3                 NaN  \n",
       "4                 NaN  "
      ]
     },
     "execution_count": 30,
     "metadata": {},
     "output_type": "execute_result"
    }
   ],
   "source": [
    "pop.head()"
   ]
  },
  {
   "cell_type": "code",
   "execution_count": 31,
   "id": "3f33c7cb",
   "metadata": {},
   "outputs": [
    {
     "data": {
      "text/html": [
       "<div>\n",
       "<style scoped>\n",
       "    .dataframe tbody tr th:only-of-type {\n",
       "        vertical-align: middle;\n",
       "    }\n",
       "\n",
       "    .dataframe tbody tr th {\n",
       "        vertical-align: top;\n",
       "    }\n",
       "\n",
       "    .dataframe thead th {\n",
       "        text-align: right;\n",
       "    }\n",
       "</style>\n",
       "<table border=\"1\" class=\"dataframe\">\n",
       "  <thead>\n",
       "    <tr style=\"text-align: right;\">\n",
       "      <th></th>\n",
       "      <th>VALUE</th>\n",
       "      <th>Married</th>\n",
       "      <th>Reg_Death</th>\n",
       "      <th>Rate_Death/1000</th>\n",
       "      <th>Reg_inf_Death/1000</th>\n",
       "      <th>Reg_Birth</th>\n",
       "      <th>B_outsideMarriage</th>\n",
       "      <th>Mothers_age</th>\n",
       "      <th>CV_P_M</th>\n",
       "      <th>Rate_marriage/1000</th>\n",
       "    </tr>\n",
       "  </thead>\n",
       "  <tbody>\n",
       "    <tr>\n",
       "      <th>count</th>\n",
       "      <td>1826.000000</td>\n",
       "      <td>253.000000</td>\n",
       "      <td>253.000000</td>\n",
       "      <td>253.000000</td>\n",
       "      <td>253.000000</td>\n",
       "      <td>253.000000</td>\n",
       "      <td>5.000000</td>\n",
       "      <td>5.000000</td>\n",
       "      <td>5.0</td>\n",
       "      <td>253.000000</td>\n",
       "    </tr>\n",
       "    <tr>\n",
       "      <th>mean</th>\n",
       "      <td>3977.795016</td>\n",
       "      <td>4810.426877</td>\n",
       "      <td>7897.806324</td>\n",
       "      <td>8.822134</td>\n",
       "      <td>10.607905</td>\n",
       "      <td>15616.932806</td>\n",
       "      <td>42.880000</td>\n",
       "      <td>33.220000</td>\n",
       "      <td>0.0</td>\n",
       "      <td>5.309486</td>\n",
       "    </tr>\n",
       "    <tr>\n",
       "      <th>std</th>\n",
       "      <td>5587.558500</td>\n",
       "      <td>1804.964835</td>\n",
       "      <td>968.524187</td>\n",
       "      <td>2.179118</td>\n",
       "      <td>8.213076</td>\n",
       "      <td>1960.231925</td>\n",
       "      <td>1.136662</td>\n",
       "      <td>0.044721</td>\n",
       "      <td>0.0</td>\n",
       "      <td>2.081377</td>\n",
       "    </tr>\n",
       "    <tr>\n",
       "      <th>min</th>\n",
       "      <td>0.000000</td>\n",
       "      <td>304.000000</td>\n",
       "      <td>6113.000000</td>\n",
       "      <td>5.300000</td>\n",
       "      <td>2.100000</td>\n",
       "      <td>10947.000000</td>\n",
       "      <td>41.200000</td>\n",
       "      <td>33.200000</td>\n",
       "      <td>0.0</td>\n",
       "      <td>0.200000</td>\n",
       "    </tr>\n",
       "    <tr>\n",
       "      <th>25%</th>\n",
       "      <td>7.825000</td>\n",
       "      <td>3501.000000</td>\n",
       "      <td>7164.000000</td>\n",
       "      <td>7.100000</td>\n",
       "      <td>4.100000</td>\n",
       "      <td>14211.000000</td>\n",
       "      <td>42.600000</td>\n",
       "      <td>33.200000</td>\n",
       "      <td>0.0</td>\n",
       "      <td>4.100000</td>\n",
       "    </tr>\n",
       "    <tr>\n",
       "      <th>50%</th>\n",
       "      <td>20.050000</td>\n",
       "      <td>4539.000000</td>\n",
       "      <td>7650.000000</td>\n",
       "      <td>8.500000</td>\n",
       "      <td>7.100000</td>\n",
       "      <td>15612.000000</td>\n",
       "      <td>42.800000</td>\n",
       "      <td>33.200000</td>\n",
       "      <td>0.0</td>\n",
       "      <td>4.900000</td>\n",
       "    </tr>\n",
       "    <tr>\n",
       "      <th>75%</th>\n",
       "      <td>7348.250000</td>\n",
       "      <td>5707.000000</td>\n",
       "      <td>8472.000000</td>\n",
       "      <td>10.400000</td>\n",
       "      <td>16.000000</td>\n",
       "      <td>17128.000000</td>\n",
       "      <td>43.600000</td>\n",
       "      <td>33.200000</td>\n",
       "      <td>0.0</td>\n",
       "      <td>6.600000</td>\n",
       "    </tr>\n",
       "    <tr>\n",
       "      <th>max</th>\n",
       "      <td>19950.000000</td>\n",
       "      <td>8949.000000</td>\n",
       "      <td>11883.000000</td>\n",
       "      <td>17.100000</td>\n",
       "      <td>35.700000</td>\n",
       "      <td>19950.000000</td>\n",
       "      <td>44.200000</td>\n",
       "      <td>33.300000</td>\n",
       "      <td>0.0</td>\n",
       "      <td>10.300000</td>\n",
       "    </tr>\n",
       "  </tbody>\n",
       "</table>\n",
       "</div>"
      ],
      "text/plain": [
       "              VALUE      Married     Reg_Death  Rate_Death/1000  \\\n",
       "count   1826.000000   253.000000    253.000000       253.000000   \n",
       "mean    3977.795016  4810.426877   7897.806324         8.822134   \n",
       "std     5587.558500  1804.964835    968.524187         2.179118   \n",
       "min        0.000000   304.000000   6113.000000         5.300000   \n",
       "25%        7.825000  3501.000000   7164.000000         7.100000   \n",
       "50%       20.050000  4539.000000   7650.000000         8.500000   \n",
       "75%     7348.250000  5707.000000   8472.000000        10.400000   \n",
       "max    19950.000000  8949.000000  11883.000000        17.100000   \n",
       "\n",
       "       Reg_inf_Death/1000     Reg_Birth  B_outsideMarriage  Mothers_age  \\\n",
       "count          253.000000    253.000000           5.000000     5.000000   \n",
       "mean            10.607905  15616.932806          42.880000    33.220000   \n",
       "std              8.213076   1960.231925           1.136662     0.044721   \n",
       "min              2.100000  10947.000000          41.200000    33.200000   \n",
       "25%              4.100000  14211.000000          42.600000    33.200000   \n",
       "50%              7.100000  15612.000000          42.800000    33.200000   \n",
       "75%             16.000000  17128.000000          43.600000    33.200000   \n",
       "max             35.700000  19950.000000          44.200000    33.300000   \n",
       "\n",
       "       CV_P_M  Rate_marriage/1000  \n",
       "count     5.0          253.000000  \n",
       "mean      0.0            5.309486  \n",
       "std       0.0            2.081377  \n",
       "min       0.0            0.200000  \n",
       "25%       0.0            4.100000  \n",
       "50%       0.0            4.900000  \n",
       "75%       0.0            6.600000  \n",
       "max       0.0           10.300000  "
      ]
     },
     "execution_count": 31,
     "metadata": {},
     "output_type": "execute_result"
    }
   ],
   "source": [
    "pop.describe()"
   ]
  },
  {
   "attachments": {
    "image.png": {
     "image/png": "[encoded data removed]"
    }
   },
   "cell_type": "markdown",
   "id": "f7d9e3ac",
   "metadata": {},
   "source": [
    "## Handling Missing values in extracted feature \n",
    "Going by the information available through using the isnull and sum methods in pandas, and the proportionality coalculation operation, output shows that the extracted labels columns have a significant missing value, because understandable the values has most likely been extracted under another column.\n",
    "Over 90% of the values in these lable features are missing values. To be able to choose the right way to deal with this null values we must consider the decriptive statistical analysis of this features. With '.describe()' method we were able to see that all the variables are significantly skwed. Some varaiables are left skewed, while some are right skewed meaning that in some variables, the mean is greater than the median while in some the mean is lesser than the median. \n",
    "### Exploring different method of handling missing values\n",
    "#### Input Method consideration\n",
    "Whiles considering the most effective method to input the null values with, it is worth noting that authors have argurged there is no method of inputation used to replace null value that would not introduce some sort of bias in our data, it is always a question of what is the most efficient method based of the information available in our data ***(data cleaning note, 2023)***.\n",
    "***Using Statistical values:*** such as (mean and median) is an example of a way of replasing missing values ***(data cleaning not, 2023)***. (Gawali, 2021) reported that mean values can be used to replace numerical data when the data distributing is not skewed. Considering the result of pop df descriptive statistics, result shows that feautures are skewed so mean would not be appropriate. Median on the other hand is more robust, not sensitive to outliers and is appropriate to used when the data we are trying to fill is skewed (Gawali, 2021). \n",
    "This makes logical sense considering mean is calculated by averaging an entire distribution, which would include extreme value if present. If mean is used in this case we would be introducing a high bias into our data. Mathematically, median is the middle value or average of middle values of a distribution, it does not take into consideration the extreme values on the left or right of a distribution hence not impacting the truness of the data too much as the value that would most likely be imputed are still within 3 standard deviations to the right or left of the median (95%) of sample. \n",
    "\n",
    "***Interpolation:***(code-mentor.ai, 2023) defined interpolation as a technique used to estimate missing values based on the values of neighboring data points. Based on this definition it seems to me using interpolation method is introducing a lot of biase into out data. The population obsevations are not expected to be based on a pattern known to us i.e they are random numbers, using interpolation regardless which ever method or direction specified in the sythax will force the pattern to follow a direction, heance introduction biase. \n",
    "#### Drop method\n",
    "The extracted columns has too many null-values, our goal is to try and correct the missing values while still trying to retain the truness of the data to a resanable extent. (Eddie_4072, 2021), reported that in extreme case when the ratio of null value is significantly higher than the ration of actual recorded observation, it is safer to drop the variable.\n",
    "However, the null-values we have in our data was created by during implementation. Going back to the early EDA as shown in fig.2 there where 2728 null values recorded in pop before we extracted the lables and there corresponding values from the statistics-label feuture. Haven extracted the recoreded corresponding values of lables from the statistics-lable, we dont need the values column anymore, so we will drop it. Furthermore the artificially created NAN's rows will also be drop using the 'dropna' method.  \n",
    "![image.png](attachment:image.png)\n",
    "fig.2\n",
    "#### Conclusion\n",
    "The entire values column will be dropped, and the NAN rows in the lable features will also be dropped based on justification provided above."
   ]
  },
  {
   "cell_type": "code",
   "execution_count": 32,
   "id": "e0ae0d9a",
   "metadata": {},
   "outputs": [],
   "source": [
    "pop.drop(['VALUE'], axis=1, inplace= True)"
   ]
  },
  {
   "cell_type": "code",
   "execution_count": 33,
   "id": "77bea2eb",
   "metadata": {},
   "outputs": [
    {
     "data": {
      "text/html": [
       "<div>\n",
       "<style scoped>\n",
       "    .dataframe tbody tr th:only-of-type {\n",
       "        vertical-align: middle;\n",
       "    }\n",
       "\n",
       "    .dataframe tbody tr th {\n",
       "        vertical-align: top;\n",
       "    }\n",
       "\n",
       "    .dataframe thead th {\n",
       "        text-align: right;\n",
       "    }\n",
       "</style>\n",
       "<table border=\"1\" class=\"dataframe\">\n",
       "  <thead>\n",
       "    <tr style=\"text-align: right;\">\n",
       "      <th></th>\n",
       "      <th>Quarter</th>\n",
       "      <th>UNIT</th>\n",
       "      <th>Married</th>\n",
       "      <th>Reg_Death</th>\n",
       "      <th>Rate_Death/1000</th>\n",
       "      <th>Reg_inf_Death/1000</th>\n",
       "      <th>Reg_Birth</th>\n",
       "      <th>B_outsideMarriage</th>\n",
       "      <th>Mothers_age</th>\n",
       "      <th>CV_P_M</th>\n",
       "      <th>Rate_marriage/1000</th>\n",
       "    </tr>\n",
       "  </thead>\n",
       "  <tbody>\n",
       "    <tr>\n",
       "      <th>0</th>\n",
       "      <td>1960Q1</td>\n",
       "      <td>Number</td>\n",
       "      <td>2987.0</td>\n",
       "      <td>NaN</td>\n",
       "      <td>NaN</td>\n",
       "      <td>NaN</td>\n",
       "      <td>NaN</td>\n",
       "      <td>NaN</td>\n",
       "      <td>NaN</td>\n",
       "      <td>NaN</td>\n",
       "      <td>NaN</td>\n",
       "    </tr>\n",
       "    <tr>\n",
       "      <th>1</th>\n",
       "      <td>1960Q2</td>\n",
       "      <td>Number</td>\n",
       "      <td>3501.0</td>\n",
       "      <td>NaN</td>\n",
       "      <td>NaN</td>\n",
       "      <td>NaN</td>\n",
       "      <td>NaN</td>\n",
       "      <td>NaN</td>\n",
       "      <td>NaN</td>\n",
       "      <td>NaN</td>\n",
       "      <td>NaN</td>\n",
       "    </tr>\n",
       "    <tr>\n",
       "      <th>2</th>\n",
       "      <td>1960Q3</td>\n",
       "      <td>Number</td>\n",
       "      <td>5900.0</td>\n",
       "      <td>NaN</td>\n",
       "      <td>NaN</td>\n",
       "      <td>NaN</td>\n",
       "      <td>NaN</td>\n",
       "      <td>NaN</td>\n",
       "      <td>NaN</td>\n",
       "      <td>NaN</td>\n",
       "      <td>NaN</td>\n",
       "    </tr>\n",
       "    <tr>\n",
       "      <th>3</th>\n",
       "      <td>1960Q4</td>\n",
       "      <td>Number</td>\n",
       "      <td>3106.0</td>\n",
       "      <td>NaN</td>\n",
       "      <td>NaN</td>\n",
       "      <td>NaN</td>\n",
       "      <td>NaN</td>\n",
       "      <td>NaN</td>\n",
       "      <td>NaN</td>\n",
       "      <td>NaN</td>\n",
       "      <td>NaN</td>\n",
       "    </tr>\n",
       "    <tr>\n",
       "      <th>4</th>\n",
       "      <td>1961Q1</td>\n",
       "      <td>Number</td>\n",
       "      <td>2179.0</td>\n",
       "      <td>NaN</td>\n",
       "      <td>NaN</td>\n",
       "      <td>NaN</td>\n",
       "      <td>NaN</td>\n",
       "      <td>NaN</td>\n",
       "      <td>NaN</td>\n",
       "      <td>NaN</td>\n",
       "      <td>NaN</td>\n",
       "    </tr>\n",
       "  </tbody>\n",
       "</table>\n",
       "</div>"
      ],
      "text/plain": [
       "  Quarter    UNIT  Married  Reg_Death  Rate_Death/1000  Reg_inf_Death/1000  \\\n",
       "0  1960Q1  Number   2987.0        NaN              NaN                 NaN   \n",
       "1  1960Q2  Number   3501.0        NaN              NaN                 NaN   \n",
       "2  1960Q3  Number   5900.0        NaN              NaN                 NaN   \n",
       "3  1960Q4  Number   3106.0        NaN              NaN                 NaN   \n",
       "4  1961Q1  Number   2179.0        NaN              NaN                 NaN   \n",
       "\n",
       "   Reg_Birth  B_outsideMarriage  Mothers_age  CV_P_M  Rate_marriage/1000  \n",
       "0        NaN                NaN          NaN     NaN                 NaN  \n",
       "1        NaN                NaN          NaN     NaN                 NaN  \n",
       "2        NaN                NaN          NaN     NaN                 NaN  \n",
       "3        NaN                NaN          NaN     NaN                 NaN  \n",
       "4        NaN                NaN          NaN     NaN                 NaN  "
      ]
     },
     "execution_count": 33,
     "metadata": {},
     "output_type": "execute_result"
    }
   ],
   "source": [
    "pop.head()"
   ]
  },
  {
   "cell_type": "code",
   "execution_count": 38,
   "id": "1854e36f",
   "metadata": {},
   "outputs": [
    {
     "data": {
      "text/html": [
       "<div>\n",
       "<style scoped>\n",
       "    .dataframe tbody tr th:only-of-type {\n",
       "        vertical-align: middle;\n",
       "    }\n",
       "\n",
       "    .dataframe tbody tr th {\n",
       "        vertical-align: top;\n",
       "    }\n",
       "\n",
       "    .dataframe thead th {\n",
       "        text-align: right;\n",
       "    }\n",
       "</style>\n",
       "<table border=\"1\" class=\"dataframe\">\n",
       "  <thead>\n",
       "    <tr style=\"text-align: right;\">\n",
       "      <th></th>\n",
       "      <th>Quarter</th>\n",
       "      <th>UNIT</th>\n",
       "      <th>Married</th>\n",
       "      <th>Reg_Death</th>\n",
       "      <th>Rate_Death/1000</th>\n",
       "      <th>Reg_inf_Death/1000</th>\n",
       "      <th>Reg_Birth</th>\n",
       "      <th>B_outsideMarriage</th>\n",
       "      <th>Mothers_age</th>\n",
       "      <th>CV_P_M</th>\n",
       "      <th>Rate_marriage/1000</th>\n",
       "    </tr>\n",
       "  </thead>\n",
       "  <tbody>\n",
       "  </tbody>\n",
       "</table>\n",
       "</div>"
      ],
      "text/plain": [
       "Empty DataFrame\n",
       "Columns: [Quarter, UNIT, Married, Reg_Death, Rate_Death/1000, Reg_inf_Death/1000, Reg_Birth, B_outsideMarriage, Mothers_age, CV_P_M, Rate_marriage/1000]\n",
       "Index: []"
      ]
     },
     "execution_count": 38,
     "metadata": {},
     "output_type": "execute_result"
    }
   ],
   "source": [
    "pop_clean= pop.dropna()\n",
    "pop_clean.head()"
   ]
  },
  {
   "cell_type": "code",
   "execution_count": 40,
   "id": "b13a5991",
   "metadata": {},
   "outputs": [
    {
     "data": {
      "text/plain": [
       "(0, 11)"
      ]
     },
     "execution_count": 40,
     "metadata": {},
     "output_type": "execute_result"
    }
   ],
   "source": [
    "pop_clean.shape"
   ]
  },
  {
   "attachments": {
    "image.png": {
     "image/png": "[encoded data removed]"
    }
   },
   "cell_type": "markdown",
   "id": "6fd5dde1",
   "metadata": {},
   "source": [
    "## Note \n",
    "Loook at the variables thst have high counts and drop them. This is because the o=bsservations are very small and they are causing all the data to drop. \n",
    "\n",
    "As shown after droppoing the NAN the all our rows was droped why? We go back to the describe method, we will see in fig3, the tthree variables have close to 100% NAN 99.8.\n",
    "![image.png](attachment:image.png)\n",
    "fig.3"
   ]
  },
  {
   "cell_type": "markdown",
   "id": "e6c4e3f4",
   "metadata": {},
   "source": [
    "## Plan going forward\n",
    "fill nan with 0? and see effecr on describe\n",
    "leave and compare effect? \n",
    "If dropna is ued it drioped the entire rows. "
   ]
  },
  {
   "cell_type": "markdown",
   "id": "5b814cf1",
   "metadata": {},
   "source": [
    "#pup.shape\n",
    "## Use the EDA note for EDA plot \n",
    "## Use Cleaning note for cleaning \n",
    "## used ML not for machiene learning"
   ]
  },
  {
   "cell_type": "code",
   "execution_count": null,
   "id": "97615213",
   "metadata": {},
   "outputs": [],
   "source": []
  }
 ],
 "metadata": {
  "kernelspec": {
   "display_name": "Python 3 (ipykernel)",
   "language": "python",
   "name": "python3"
  },
  "language_info": {
   "codemirror_mode": {
    "name": "ipython",
    "version": 3
   },
   "file_extension": ".py",
   "mimetype": "text/x-python",
   "name": "python",
   "nbconvert_exporter": "python",
   "pygments_lexer": "ipython3",
   "version": "3.11.4"
  }
 },
 "nbformat": 4,
 "nbformat_minor": 5
}
